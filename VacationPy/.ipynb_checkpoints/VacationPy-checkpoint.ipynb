{
 "cells": [
  {
   "cell_type": "markdown",
   "metadata": {},
   "source": [
    "# VacationPy\n",
    "----\n",
    "\n",
    "#### Note\n",
    "* Keep an eye on your API usage. Use https://developers.google.com/maps/reporting/gmp-reporting as reference for how to monitor your usage and billing.\n",
    "\n",
    "* Instructions have been included for each segment. You do not have to follow them exactly, but they are included to help you think through the steps."
   ]
  },
  {
   "cell_type": "code",
   "execution_count": 1,
   "metadata": {},
   "outputs": [],
   "source": [
    "# Dependencies and Setup\n",
    "import matplotlib.pyplot as plt\n",
    "import pandas as pd\n",
    "import numpy as np\n",
    "import requests\n",
    "import gmaps\n",
    "import os\n",
    "\n",
    "# Import API key\n",
    "from api_keys import g_key\n",
    "gmaps.configure(api_key=g_key)\n"
   ]
  },
  {
   "cell_type": "markdown",
   "metadata": {},
   "source": [
    "### Store Part I results into DataFrame\n",
    "* Load the csv exported in Part I to a DataFrame"
   ]
  },
  {
   "cell_type": "code",
   "execution_count": 12,
   "metadata": {},
   "outputs": [
    {
     "name": "stdout",
     "output_type": "stream",
     "text": [
      "575\n"
     ]
    },
    {
     "data": {
      "text/html": [
       "<div>\n",
       "<style scoped>\n",
       "    .dataframe tbody tr th:only-of-type {\n",
       "        vertical-align: middle;\n",
       "    }\n",
       "\n",
       "    .dataframe tbody tr th {\n",
       "        vertical-align: top;\n",
       "    }\n",
       "\n",
       "    .dataframe thead th {\n",
       "        text-align: right;\n",
       "    }\n",
       "</style>\n",
       "<table border=\"1\" class=\"dataframe\">\n",
       "  <thead>\n",
       "    <tr style=\"text-align: right;\">\n",
       "      <th></th>\n",
       "      <th>City</th>\n",
       "      <th>Lat</th>\n",
       "      <th>Lon</th>\n",
       "      <th>Max_Temp</th>\n",
       "      <th>Humidity</th>\n",
       "      <th>Cloudiness</th>\n",
       "      <th>Wind_Speed</th>\n",
       "      <th>Country</th>\n",
       "      <th>Date</th>\n",
       "    </tr>\n",
       "  </thead>\n",
       "  <tbody>\n",
       "    <tr>\n",
       "      <th>0</th>\n",
       "      <td>kroya</td>\n",
       "      <td>-7.6331</td>\n",
       "      <td>109.2461</td>\n",
       "      <td>86.79</td>\n",
       "      <td>57</td>\n",
       "      <td>4</td>\n",
       "      <td>12.62</td>\n",
       "      <td>ID</td>\n",
       "      <td>1618900483</td>\n",
       "    </tr>\n",
       "    <tr>\n",
       "      <th>1</th>\n",
       "      <td>arraial do cabo</td>\n",
       "      <td>-22.9661</td>\n",
       "      <td>-42.0278</td>\n",
       "      <td>73.90</td>\n",
       "      <td>78</td>\n",
       "      <td>30</td>\n",
       "      <td>27.31</td>\n",
       "      <td>BR</td>\n",
       "      <td>1618900487</td>\n",
       "    </tr>\n",
       "    <tr>\n",
       "      <th>2</th>\n",
       "      <td>cabo san lucas</td>\n",
       "      <td>22.8909</td>\n",
       "      <td>-109.9124</td>\n",
       "      <td>69.01</td>\n",
       "      <td>85</td>\n",
       "      <td>36</td>\n",
       "      <td>7.18</td>\n",
       "      <td>MX</td>\n",
       "      <td>1618900448</td>\n",
       "    </tr>\n",
       "    <tr>\n",
       "      <th>3</th>\n",
       "      <td>longyearbyen</td>\n",
       "      <td>78.2186</td>\n",
       "      <td>15.6401</td>\n",
       "      <td>28.40</td>\n",
       "      <td>69</td>\n",
       "      <td>75</td>\n",
       "      <td>12.66</td>\n",
       "      <td>SJ</td>\n",
       "      <td>1618900494</td>\n",
       "    </tr>\n",
       "    <tr>\n",
       "      <th>4</th>\n",
       "      <td>ancud</td>\n",
       "      <td>-41.8697</td>\n",
       "      <td>-73.8203</td>\n",
       "      <td>46.99</td>\n",
       "      <td>100</td>\n",
       "      <td>0</td>\n",
       "      <td>2.84</td>\n",
       "      <td>CL</td>\n",
       "      <td>1618900497</td>\n",
       "    </tr>\n",
       "  </tbody>\n",
       "</table>\n",
       "</div>"
      ],
      "text/plain": [
       "              City      Lat       Lon  Max_Temp  Humidity  Cloudiness  \\\n",
       "0            kroya  -7.6331  109.2461     86.79        57           4   \n",
       "1  arraial do cabo -22.9661  -42.0278     73.90        78          30   \n",
       "2   cabo san lucas  22.8909 -109.9124     69.01        85          36   \n",
       "3     longyearbyen  78.2186   15.6401     28.40        69          75   \n",
       "4            ancud -41.8697  -73.8203     46.99       100           0   \n",
       "\n",
       "   Wind_Speed Country        Date  \n",
       "0       12.62      ID  1618900483  \n",
       "1       27.31      BR  1618900487  \n",
       "2        7.18      MX  1618900448  \n",
       "3       12.66      SJ  1618900494  \n",
       "4        2.84      CL  1618900497  "
      ]
     },
     "execution_count": 12,
     "metadata": {},
     "output_type": "execute_result"
    }
   ],
   "source": [
    "city_table= pd.read_csv(\"../WeatherPy/output_data/city_data.csv\")\n",
    "print(len(city_table))\n",
    "city_table.head()"
   ]
  },
  {
   "cell_type": "markdown",
   "metadata": {},
   "source": [
    "### Humidity Heatmap\n",
    "* Configure gmaps.\n",
    "* Use the Lat and Lng as locations and Humidity as the weight.\n",
    "* Add Heatmap layer to map."
   ]
  },
  {
   "cell_type": "code",
   "execution_count": 3,
   "metadata": {},
   "outputs": [
    {
     "data": {
      "application/vnd.jupyter.widget-view+json": {
       "model_id": "d987d07c2a8c4ed9b7dcb28b7643919c",
       "version_major": 2,
       "version_minor": 0
      },
      "text/plain": [
       "Figure(layout=FigureLayout(height='420px'))"
      ]
     },
     "metadata": {},
     "output_type": "display_data"
    }
   ],
   "source": [
    "coordinates = city_table[[\"Lat\", \"Lon\"]]\n",
    "locations = city_table[\"Humidity\"].astype(float)\n",
    "\n",
    "fig = gmaps.figure()\n",
    "heatmap = gmaps.heatmap_layer(coordinates, weights = locations, dissipating=False, point_radius= 5)\n",
    "fig.add_layer(heatmap)\n",
    "fig\n"
   ]
  },
  {
   "cell_type": "code",
   "execution_count": 6,
   "metadata": {},
   "outputs": [
    {
     "data": {
      "text/html": [
       "<div>\n",
       "<style scoped>\n",
       "    .dataframe tbody tr th:only-of-type {\n",
       "        vertical-align: middle;\n",
       "    }\n",
       "\n",
       "    .dataframe tbody tr th {\n",
       "        vertical-align: top;\n",
       "    }\n",
       "\n",
       "    .dataframe thead th {\n",
       "        text-align: right;\n",
       "    }\n",
       "</style>\n",
       "<table border=\"1\" class=\"dataframe\">\n",
       "  <thead>\n",
       "    <tr style=\"text-align: right;\">\n",
       "      <th></th>\n",
       "      <th>City</th>\n",
       "      <th>Lat</th>\n",
       "      <th>Lon</th>\n",
       "      <th>Max_Temp</th>\n",
       "      <th>Humidity</th>\n",
       "      <th>Cloudiness</th>\n",
       "      <th>Wind_Speed</th>\n",
       "      <th>Country</th>\n",
       "      <th>Date</th>\n",
       "    </tr>\n",
       "  </thead>\n",
       "  <tbody>\n",
       "    <tr>\n",
       "      <th>7</th>\n",
       "      <td>rikitea</td>\n",
       "      <td>-23.1203</td>\n",
       "      <td>-134.9692</td>\n",
       "      <td>77.97</td>\n",
       "      <td>69</td>\n",
       "      <td>0</td>\n",
       "      <td>8.05</td>\n",
       "      <td>PF</td>\n",
       "      <td>1618900459</td>\n",
       "    </tr>\n",
       "    <tr>\n",
       "      <th>63</th>\n",
       "      <td>taoudenni</td>\n",
       "      <td>22.6783</td>\n",
       "      <td>-3.9836</td>\n",
       "      <td>77.45</td>\n",
       "      <td>13</td>\n",
       "      <td>0</td>\n",
       "      <td>8.41</td>\n",
       "      <td>ML</td>\n",
       "      <td>1618900712</td>\n",
       "    </tr>\n",
       "    <tr>\n",
       "      <th>225</th>\n",
       "      <td>aquiraz</td>\n",
       "      <td>-3.9014</td>\n",
       "      <td>-38.3911</td>\n",
       "      <td>77.00</td>\n",
       "      <td>94</td>\n",
       "      <td>0</td>\n",
       "      <td>2.30</td>\n",
       "      <td>BR</td>\n",
       "      <td>1618901337</td>\n",
       "    </tr>\n",
       "    <tr>\n",
       "      <th>290</th>\n",
       "      <td>changji</td>\n",
       "      <td>44.0167</td>\n",
       "      <td>87.3167</td>\n",
       "      <td>75.20</td>\n",
       "      <td>13</td>\n",
       "      <td>0</td>\n",
       "      <td>4.47</td>\n",
       "      <td>CN</td>\n",
       "      <td>1618901596</td>\n",
       "    </tr>\n",
       "    <tr>\n",
       "      <th>372</th>\n",
       "      <td>fereydun kenar</td>\n",
       "      <td>36.6864</td>\n",
       "      <td>52.5225</td>\n",
       "      <td>73.40</td>\n",
       "      <td>56</td>\n",
       "      <td>0</td>\n",
       "      <td>6.91</td>\n",
       "      <td>IR</td>\n",
       "      <td>1618901914</td>\n",
       "    </tr>\n",
       "  </tbody>\n",
       "</table>\n",
       "</div>"
      ],
      "text/plain": [
       "               City      Lat       Lon  Max_Temp  Humidity  Cloudiness  \\\n",
       "7           rikitea -23.1203 -134.9692     77.97        69           0   \n",
       "63        taoudenni  22.6783   -3.9836     77.45        13           0   \n",
       "225         aquiraz  -3.9014  -38.3911     77.00        94           0   \n",
       "290         changji  44.0167   87.3167     75.20        13           0   \n",
       "372  fereydun kenar  36.6864   52.5225     73.40        56           0   \n",
       "\n",
       "     Wind_Speed Country        Date  \n",
       "7          8.05      PF  1618900459  \n",
       "63         8.41      ML  1618900712  \n",
       "225        2.30      BR  1618901337  \n",
       "290        4.47      CN  1618901596  \n",
       "372        6.91      IR  1618901914  "
      ]
     },
     "execution_count": 6,
     "metadata": {},
     "output_type": "execute_result"
    }
   ],
   "source": [
    "hoteldf = pd.DataFrame()\n",
    "perfect_weather_city = city_table.loc[(city_table[\"Max_Temp\"] > 70) & (city_table[\"Max_Temp\"] < 78) & \n",
    "                                  (city_table[\"Wind_Speed\"] < 10) & \n",
    "                                  (city_table[\"Cloudiness\"] == 0)]\n",
    "perfect_weather_city"
   ]
  },
  {
   "cell_type": "markdown",
   "metadata": {},
   "source": [
    "### Create new DataFrame fitting weather criteria\n",
    "* Narrow down the cities to fit weather conditions.\n",
    "* Drop any rows will null values."
   ]
  },
  {
   "cell_type": "code",
   "execution_count": 7,
   "metadata": {},
   "outputs": [
    {
     "name": "stdout",
     "output_type": "stream",
     "text": [
      "No Hotel Was Found\n",
      "No Hotel Was Found\n",
      "A Hote for aquiraz was found\n",
      "A Hote for changji was found\n",
      "A Hote for fereydun kenar was found\n"
     ]
    },
    {
     "data": {
      "text/html": [
       "<div>\n",
       "<style scoped>\n",
       "    .dataframe tbody tr th:only-of-type {\n",
       "        vertical-align: middle;\n",
       "    }\n",
       "\n",
       "    .dataframe tbody tr th {\n",
       "        vertical-align: top;\n",
       "    }\n",
       "\n",
       "    .dataframe thead th {\n",
       "        text-align: right;\n",
       "    }\n",
       "</style>\n",
       "<table border=\"1\" class=\"dataframe\">\n",
       "  <thead>\n",
       "    <tr style=\"text-align: right;\">\n",
       "      <th></th>\n",
       "      <th>Hotel_Name</th>\n",
       "      <th>Lat</th>\n",
       "      <th>Lon</th>\n",
       "      <th>City_Name</th>\n",
       "      <th>Country</th>\n",
       "    </tr>\n",
       "  </thead>\n",
       "  <tbody>\n",
       "    <tr>\n",
       "      <th>225</th>\n",
       "      <td>Brisa do Golf (Golf Ville Resort)</td>\n",
       "      <td>-3.9014</td>\n",
       "      <td>-38.3911</td>\n",
       "      <td>aquiraz</td>\n",
       "      <td>BR</td>\n",
       "    </tr>\n",
       "    <tr>\n",
       "      <th>290</th>\n",
       "      <td>Garden Hotel</td>\n",
       "      <td>44.0167</td>\n",
       "      <td>87.3167</td>\n",
       "      <td>changji</td>\n",
       "      <td>CN</td>\n",
       "    </tr>\n",
       "    <tr>\n",
       "      <th>372</th>\n",
       "      <td>هتل اپارتمان بهشت motel paradise</td>\n",
       "      <td>36.6864</td>\n",
       "      <td>52.5225</td>\n",
       "      <td>fereydun kenar</td>\n",
       "      <td>IR</td>\n",
       "    </tr>\n",
       "  </tbody>\n",
       "</table>\n",
       "</div>"
      ],
      "text/plain": [
       "                            Hotel_Name      Lat      Lon       City_Name  \\\n",
       "225  Brisa do Golf (Golf Ville Resort)  -3.9014 -38.3911         aquiraz   \n",
       "290                       Garden Hotel  44.0167  87.3167         changji   \n",
       "372   هتل اپارتمان بهشت motel paradise  36.6864  52.5225  fereydun kenar   \n",
       "\n",
       "    Country  \n",
       "225      BR  \n",
       "290      CN  \n",
       "372      IR  "
      ]
     },
     "execution_count": 7,
     "metadata": {},
     "output_type": "execute_result"
    }
   ],
   "source": [
    "\n",
    "coordinates = perfect_weather_city[[\"Lat\", \"Lon\", \"City\", \"Country\"]]\n",
    "\n",
    "for index, row in coordinates.iterrows():\n",
    "\n",
    "    target_coordinates = f\"{row.Lat}, {row.Lon}\"\n",
    "    target_search = \"Hotel\"\n",
    "    radius = 5000\n",
    "    \n",
    "    params = {\n",
    "    \"location\": target_coordinates,\n",
    "    \"keyword\": target_search,\n",
    "    \"radius\": radius,\n",
    "    \"key\": g_key\n",
    "    }\n",
    "\n",
    "    base_url = \"https://maps.googleapis.com/maps/api/place/nearbysearch/json\"\n",
    "    response = requests.get(base_url, params=params)\n",
    "    places_data = response.json()\n",
    "    try:\n",
    "        hoteldf.loc[index, \"Hotel_Name\"] = places_data[\"results\"][0][\"name\"]\n",
    "        hoteldf.loc[index, \"Lat\"] = row.Lat\n",
    "        hoteldf.loc[index, \"Lon\"] = row.Lon\n",
    "        hoteldf.loc[index, \"City_Name\"] = row.City\n",
    "        hoteldf.loc[index, \"Country\"] = row.Country\n",
    "        print(f\"A Hote for {row.City} was found\")\n",
    "    except:\n",
    "        print('No Hotel Was Found')\n",
    "        pass\n",
    "hoteldf"
   ]
  },
  {
   "cell_type": "markdown",
   "metadata": {},
   "source": [
    "### Hotel Map\n",
    "* Store into variable named `hotel_df`.\n",
    "* Add a \"Hotel Name\" column to the DataFrame.\n",
    "* Set parameters to search for hotels with 5000 meters.\n",
    "* Hit the Google Places API for each city's coordinates.\n",
    "* Store the first Hotel result into the DataFrame.\n",
    "* Plot markers on top of the heatmap."
   ]
  },
  {
   "cell_type": "code",
   "execution_count": null,
   "metadata": {},
   "outputs": [],
   "source": []
  },
  {
   "cell_type": "code",
   "execution_count": null,
   "metadata": {},
   "outputs": [],
   "source": []
  },
  {
   "cell_type": "code",
   "execution_count": 8,
   "metadata": {},
   "outputs": [],
   "source": [
    "# NOTE: Do not change any of the code in this cell\n",
    "\n",
    "# Using the template add the hotel marks to the heatmap\n",
    "info_box_template = \"\"\"\n",
    "<dl>\n",
    "<dt>Name</dt><dd>{Hotel_Name}</dd>\n",
    "<dt>City</dt><dd>{City_Name}</dd>\n",
    "<dt>Country</dt><dd>{Country}</dd>\n",
    "</dl>\n",
    "\"\"\"\n",
    "# Store the DataFrame Row\n",
    "# NOTE: be sure to update with your DataFrame name\n",
    "hotel_info = [info_box_template.format(**row) for index, row in hoteldf.iterrows()]\n",
    "locations = hoteldf[[\"Lat\", \"Lon\"]]"
   ]
  },
  {
   "cell_type": "code",
   "execution_count": 9,
   "metadata": {},
   "outputs": [
    {
     "data": {
      "application/vnd.jupyter.widget-view+json": {
       "model_id": "d987d07c2a8c4ed9b7dcb28b7643919c",
       "version_major": 2,
       "version_minor": 0
      },
      "text/plain": [
       "Figure(layout=FigureLayout(height='420px'))"
      ]
     },
     "metadata": {},
     "output_type": "display_data"
    }
   ],
   "source": [
    "# Add marker layer ontop of heat map\n",
    "markers =gmaps.marker_layer(locations, info_box_content = hotel_info, display_info_box =True)\n",
    "fig.add_layer(markers)\n",
    "\n",
    "# Display figure\n",
    "fig"
   ]
  },
  {
   "cell_type": "code",
   "execution_count": null,
   "metadata": {},
   "outputs": [],
   "source": []
  }
 ],
 "metadata": {
  "kernelspec": {
   "display_name": "Python 3",
   "language": "python",
   "name": "python3"
  },
  "language_info": {
   "codemirror_mode": {
    "name": "ipython",
    "version": 3
   },
   "file_extension": ".py",
   "mimetype": "text/x-python",
   "name": "python",
   "nbconvert_exporter": "python",
   "pygments_lexer": "ipython3",
   "version": "3.8.5"
  },
  "latex_envs": {
   "LaTeX_envs_menu_present": true,
   "autoclose": false,
   "autocomplete": true,
   "bibliofile": "biblio.bib",
   "cite_by": "apalike",
   "current_citInitial": 1,
   "eqLabelWithNumbers": true,
   "eqNumInitial": 1,
   "hotkeys": {
    "equation": "Ctrl-E",
    "itemize": "Ctrl-I"
   },
   "labels_anchors": false,
   "latex_user_defs": false,
   "report_style_numbering": false,
   "user_envs_cfg": false
  }
 },
 "nbformat": 4,
 "nbformat_minor": 4
}
