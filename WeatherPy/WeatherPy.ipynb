{
 "cells": [
  {
   "cell_type": "markdown",
   "metadata": {},
   "source": [
    "# WeatherPy\n",
    "----\n",
    "\n",
    "#### Note\n",
    "* Instructions have been included for each segment. You do not have to follow them exactly, but they are included to help you think through the steps."
   ]
  },
  {
   "cell_type": "markdown",
   "metadata": {},
   "source": [
    "## Three Observable Trends\n",
    "There appears to be a relationship between the Max temperature and the latitude for each hemisphere. Max Temperature appears to be higher closer to the equater (0 Latitude)  \n",
    "\n",
    "There appears to be a relationship between the Cloudiness and the latitude for each hemisphere. Cloudiness appears to be higher closer to the equater (0 Latitude). The relationship appears to be stronger in the southern hemisphere\n",
    "\n",
    "There appears to be a relationship between the Cloudiness and the latitude for each hemisphere. Cloudiness appears to be higher closer to the equater (0 Latitude). The relationship appears to be stronger in the southern hemisphere  "
   ]
  },
  {
   "cell_type": "code",
   "execution_count": 2,
   "metadata": {
    "scrolled": true
   },
   "outputs": [],
   "source": [
    "# Dependencies and Setup\n",
    "import matplotlib.pyplot as plt\n",
    "import pandas as pd\n",
    "import numpy as np\n",
    "import requests\n",
    "import time\n",
    "import json\n",
    "import scipy.stats as st\n",
    "\n",
    "# Import API key\n",
    "from api_keys import weather_api_key\n",
    "\n",
    "# Incorporated citipy to determine city based on latitude and longitude\n",
    "from citipy import citipy\n",
    "\n",
    "# Output File (CSV)\n",
    "output_data_file = \"output_data/cities.csv\"\n",
    "\n",
    "# Range of latitudes and longitudes\n",
    "lat_range = (-90, 90)\n",
    "lng_range = (-180, 180)"
   ]
  },
  {
   "cell_type": "markdown",
   "metadata": {},
   "source": [
    "## Generate Cities List"
   ]
  },
  {
   "cell_type": "code",
   "execution_count": 3,
   "metadata": {},
   "outputs": [
    {
     "name": "stdout",
     "output_type": "stream",
     "text": [
      "628\n",
      "['kroya', 'arraial do cabo', 'cabo san lucas', 'longyearbyen', 'ancud', 'san patricio', 'bengkulu', 'rikitea', 'hobart', 'ushuaia', 'upernavik', 'mahebourg', 'mataura', 'sao desiderio', 'jamestown', 'beihai', 'vao', 'airai', 'saint-francois', 'mar del plata', 'hilo', 'tilichiki', 'clyde river', 'qaanaaq', 'alofi', 'east london', 'castro', 'vizinga', 'kodiak', 'hamilton', 'illoqqortoormiut', 'elliot lake', 'ambon', 'saskylakh', 'nyurba', 'georgetown', 'iracoubo', 'roblin', 'albany', 'codrington', 'provideniya', 'mandaguari', 'atuona', 'punta arenas', 'diego de almagro', 'busselton', 'yellowknife', 'cruzeiro do sul', 'victoria', 'tiksi', 'tunxi', 'tuktoyaktuk', 'mount gambier', 'hermanus', 'avera', 'dikson', 'voru', 'grand river south east', 'waddan', 'cape town', 'havre-saint-pierre', 'lalmohan', 'kudahuvadhoo', 'henties bay', 'pedro ii', 'neiafu', 'taoudenni', 'shetpe', 'taolanaro', 'sidi bu zayd', 'rungata', 'sisimiut', 'luanda', 'ossora', 'mayo', 'maltahohe', 'kavaratti', 'linxia', 'husavik', 'cidreira', 'manzhouli', 'aklavik', 'batsfjord', 'conakry', 'upata', 'labelle', 'bethel', 'lodja', 'amderma', 'hofn', 'katobu', 'ous', 'butaritari', 'le port', 'verkhnyaya inta', 'moron', 'nanortalik', 'neepawa', 'high level', 'kulhudhuffushi', 'hambantota', 'port macquarie', 'tumannyy', 'eirunepe', 'souillac', 'huarmey', 'maniitsoq', 'meulaboh', 'synya', 'namibe', 'carutapera', 'hasaki', 'vila franca do campo', 'narsaq', 'tezu', 'ziyamet', 'san quintin', 'kaseda', 'gotsu', 'port hardy', 'saint-philippe', 'vaini', 'sentyabrskiy', 'hobyo', 'biak', 'bakchar', 'mys shmidta', 'bluff', 'nacala', 'avarua', 'bay roberts', 'richards bay', 'ponta do sol', 'pevek', 'auki', 'kautokeino', 'bredasdorp', 'severo-kurilsk', 'cherskiy', 'leeuwarden', 'paungde', 'geraldton', 'padang', 'shingu', 'lebu', 'antigonish', 'saldanha', 'port alfred', 'torbay', 'thompson', 'ust-maya', 'batagay-alyta', 'belushya guba', 'nikolskoye', 'lorengau', 'bom jesus da lapa', 'kapaa', 'lagoa', 'tasiilaq', 'portland', 'juifang', 'muroto', 'surt', 'ust-tsilma', 'ribeira grande', 'tirur', 'cockburn town', 'olafsvik', 'khatanga', 'bridlington', 'bandarbeyla', 'tautira', 'plettenberg bay', 'sogdiondon', 'saint george', 'pyaozerskiy', 'new norfolk', 'curillo', 'sola', 'mareeba', 'muzhi', 'benguela', 'srednekolymsk', 'walvis bay', 'cazaje', 'cururupu', 'labuhan', 'krutinka', 'samusu', 'kakogawa', 'kavieng', 'san jeronimo', 'delano', 'santa maria', 'sovetskiy', 'coihaique', 'tacuarembo', 'udachnyy', 'buraydah', 'valdivia', 'banda aceh', 'wangqing', 'gamba', 'inta', 'esna', 'galesong', 'aasmae', 'salinopolis', 'tomari', 'qasigiannguit', 'lasa', 'chokurdakh', 'torrington', 'north bend', 'khomeynishahr', 'hithadhoo', 'sepuka', 'sobolevo', 'iqaluit', 'esperance', 'puerto madero', 'santa rosa', 'frankfort', 'cap malheureux', 'naze', 'los llanos de aridane', 'puerto ayora', 'oviedo', 'makasar', 'trinidad', 'mercedes', 'ust-kulom', 'dingle', 'clearlake', 'asau', 'kaitangata', 'formosa', 'cheuskiny', 'san rafael', 'lubao', 'durazno', 'tocantinopolis', 'san cristobal', 'leningradskiy', 'dalvik', 'aquiraz', 'mackenzie', 'matagami', 'borlange', 'taguatinga', 'mazyr', 'puerto leguizamo', 'ishigaki', 'cayenne', 'adrar', 'grand gaube', 'okhotsk', 'selje', 'keningau', 'bichena', 'maneadero', 'uthal', 'kamenskoye', 'maua', 'carnarvon', 'nishihara', 'malazgirt', 'xinzhi', 'kenai', 'praia da vitoria', 'barentsburg', 'touros', 'grindavik', 'bhavnagar', 'otane', 'wajima', 'lodeynoye pole', 'barysh', 'ozgon', 'luderitz', 'west wendover', 'halalo', 'mount isa', 'qixingtai', 'port blair', 'komsomolskiy', 'tateyama', 'san jose', 'aksarka', 'nizhneyansk', 'samarai', 'ahipara', 'port hueneme', 'malur', 'bull savanna', 'oksfjord', 'umm kaddadah', 'malinovoye ozero', 'chumikan', 'asyut', 'luang prabang', 'yeppoon', 'daru', 'sorland', 'attawapiskat', 'kununurra', 'salalah', 'sitka', 'isangel', 'bambous virieux', 'banjar', 'talcahuano', 'pousat', 'tiznit', 'virginia beach', 'pacifica', 'klaksvik', 'marcona', 'roma', 'changji', 'saravena', 'karratha', 'fortuna', 'san policarpo', 'constitucion', 'ordynskoye', 'saint-denis', 'wakkanai', 'vaitupu', 'sroda wielkopolska', 'konakovo', 'ploemeur', 'inhambane', 'axim', 'gazanjyk', 'hailar', 'kadykchan', 'sainte-thecle', 'barrow', 'puerto ayacucho', 'kamenka', 'ihosy', 'mayskiy', 'bria', 'gonen', 'college station', 'port elizabeth', 'novoseleznevo', 'vestmannaeyjar', 'alotau', 'krasnyy chikoy', 'sao filipe', 'dubrovytsya', 'banjarmasin', 'dargaville', 'aykhal', 'ilulissat', 'rovaniemi', 'karkaralinsk', 'fuengirola', 'williams lake', 'kuragino', 'lufilufi', 'vardo', 'iskateley', 'petrodvorets', 'moindou', 'marawi', 'lesogorsk', 'chokwe', 'balagunan', 'belmonte', 'san buenaventura', 'coolum beach', 'silyanah', 'warrington', 'safwah', 'chalus', 'bathsheba', 'faanui', 'chuy', 'kruisfontein', 'sumbawa', 'miyako', 'mumford', 'turangi', 'warqla', 'kaeo', 'ambilobe', 'marsh harbour', 'houma', 'katsuura', 'belomorsk', 'khormuj', 'esmeraldas', 'sayyan', 'sao joao da barra', 'whitehorse', 'poso', 'moose factory', 'santa isabel do rio negro', 'tver', 'tete', 'warrnambool', 'djenne', 'sibolga', 'araguaina', 'aden', 'ketchikan', 'mana', 'fereydun kenar', 'kalmunai', 'braniewo', 'namatanai', 'smidovich', 'makakilo city', 'omsukchan', 'ostrovnoy', 'quatre cocos', 'vila praia de ancora', 'kishorganj', 'atbasar', 'centralia', 'zyryanka', 'tsihombe', 'okha', 'badulla', 'asha', 'burns lake', 'tananger', 'yerbogachen', 'caravelas', 'pacific grove', 'sampit', 'innisfail', 'beyneu', 'gasa', 'poum', 'sinnamary', 'juneau', 'nahavand', 'coulihaut', 'kota kinabalu', 'ust-kamchatsk', 'kualakapuas', 'dukat', 'marsa matruh', 'puerto escondido', 'ayr', 'bitkine', 'brigantine', 'nizhniy chir', 'norman wells', 'saint-pierre', 'beloha', 'chom bung', 'birao', 'egvekinot', 'northam', 'liancheng', 'dicabisagan', 'kushima', 'qaqortoq', 'sangar', 'saint pete beach', 'kolosovka', 'novopokrovskaya', 'bubaque', 'vieste', 'puntarenas', 'gravdal', 'berlevag', 'necochea', 'aubenas', 'moerai', 'tarnogskiy gorodok', 'rawson', 'talaya', 'nadym', 'pathein', 'sorvag', 'urdzhar', 'shujalpur', 'panzhihua', 'tomatlan', 'fairbanks', 'woodward', 'gat', 'healdsburg', 'cooma', 'rio grande', 'gumushane', 'bure', 'sao gabriel da cachoeira', 'bose', 'el real de santa maria', 'evensk', 'tarbagatay', 'chernukha', 'daxian', 'arua', 'port lincoln', 'mwense', 'calama', 'zambezi', 'sibut', 'saleaula', 'hudiksvall', 'penzance', 'namtsy', 'yulara', 'opuwo', 'luxor', 'kungurtug', 'kidal', 'sao felix do xingu', 'nguruka', 'birjand', 'kashi', 'fort nelson', 'podgornoye', 'sorong', 'azare', 'ures', 'uglovskoye', 'beringovskiy', 'awbari', 'truth or consequences', 'xapuri', 'general roca', 'kargasok', 'kapit', 'hauterive', 'batticaloa', 'loukhi', 'balmazujvaros', 'itarema', 'la palma', 'bosaso', 'xining', 'mersing', 'lere', 'demba', 'mirnyy', 'zhigansk', 'sayanogorsk', 'pundaguitan', 'burica', 'koshurnikovo', 'lewisporte', 'raudeberg', 'verkhniy ufaley', 'praia', 'yerofey pavlovich', 'garden city', 'suarez', 'russell', 'constantine', 'kreminna', 'comodoro rivadavia', 'nador', 'salisbury', 'prainha', 'bet shemesh', 'balkanabat', 'muzaffarabad', 'inirida', 'zhezkazgan', 'zhitikara', 'talakan', 'teguise', 'carmen', 'gidole', 'thilogne', 'nurota', 'telenesti', 'deputatskiy', 'welkom', 'urucui', 'dixon', 'talara', 'goderich', 'lata', 'kahului', 'yar-sale', 'mindelo', 'ulaangom', 'boueni', 'nelson bay', 'margate', 'tromso', 'saint-augustin', 'lima', 'abu samrah', 'lewistown', 'mombaca', 'saint anthony', 'port hedland', 'kramat', 'rabak', 'sakakah', 'palabuhanratu', 'tarata', 'ilovlya', 'talnakh', 'sri aman', 'nome', 'umzimvubu', 'killybegs', 'cherrapunji', 'asayita', 'turukhansk', 'ixtapa', 'inongo', 'ugoofaaru', 'chapais', 'yashkul', 'scarborough', 'plouzane', 'serebryanyy bor', 'vrangel', 'dunedin', 'nemuro', 'ponta delgada', 'lanzhou', 'guerrero negro', 'formosa do rio preto', 'barcelos']\n"
     ]
    }
   ],
   "source": [
    "# List for holding lat_lngs and cities\n",
    "lat_lngs = []\n",
    "cities = []\n",
    "\n",
    "# Create a set of random lat and lng combinations\n",
    "lats = np.random.uniform(lat_range[0], lat_range[1], size=1500)\n",
    "lngs = np.random.uniform(lng_range[0], lng_range[1], size=1500)\n",
    "lat_lngs = zip(lats, lngs)\n",
    "\n",
    "# Identify nearest city for each lat, lng combination\n",
    "for lat_lng in lat_lngs:\n",
    "    city = citipy.nearest_city(lat_lng[0], lat_lng[1]).city_name\n",
    "    \n",
    "    # If the city is unique, then add it to a our cities list\n",
    "    if city not in cities:\n",
    "        cities.append(city)\n",
    "\n",
    "# Print the city count to confirm sufficient count\n",
    "print(len(cities))\n",
    "print(cities)"
   ]
  },
  {
   "cell_type": "code",
   "execution_count": null,
   "metadata": {},
   "outputs": [],
   "source": []
  },
  {
   "cell_type": "code",
   "execution_count": null,
   "metadata": {},
   "outputs": [],
   "source": []
  },
  {
   "cell_type": "markdown",
   "metadata": {},
   "source": [
    "### Perform API Calls\n",
    "* Perform a weather check on each city using a series of successive API calls.\n",
    "* Include a print log of each city as it'sbeing processed (with the city number and city name).\n"
   ]
  },
  {
   "cell_type": "code",
   "execution_count": 4,
   "metadata": {
    "scrolled": true
   },
   "outputs": [
    {
     "name": "stdout",
     "output_type": "stream",
     "text": [
      "628\n",
      "Beginning Data Retrieval for 628 cities \n",
      "-----------------------------\n",
      "Processing Record 1 of Set 1 | kroya\n",
      "Processing Record 2 of Set 1 | arraial do cabo\n",
      "Processing Record 3 of Set 1 | cabo san lucas\n",
      "Processing Record 4 of Set 1 | longyearbyen\n",
      "Processing Record 5 of Set 1 | ancud\n",
      "Processing Record 6 of Set 1 | san patricio\n",
      "Processing Record 7 of Set 1 | bengkulu\n",
      "Processing Record 8 of Set 1 | rikitea\n",
      "Processing Record 9 of Set 1 | hobart\n",
      "Processing Record 10 of Set 1 | ushuaia\n",
      "Processing Record 11 of Set 1 | upernavik\n",
      "Processing Record 12 of Set 1 | mahebourg\n",
      "Processing Record 13 of Set 1 | mataura\n",
      "Processing Record 14 of Set 1 | sao desiderio\n",
      "Processing Record 15 of Set 1 | jamestown\n",
      "Processing Record 16 of Set 1 | beihai\n",
      "Processing Record 17 of Set 1 | vao\n",
      "Processing Record 18 of Set 1 | airai\n",
      "Processing Record 19 of Set 1 | saint-francois\n",
      "Processing Record 20 of Set 1 | mar del plata\n",
      "Processing Record 21 of Set 1 | hilo\n",
      "Processing Record 22 of Set 1 | tilichiki\n",
      "Processing Record 23 of Set 1 | clyde river\n",
      "Processing Record 24 of Set 1 | qaanaaq\n",
      "Processing Record 25 of Set 1 | alofi\n",
      "Processing Record 26 of Set 1 | east london\n",
      "Processing Record 27 of Set 1 | castro\n",
      "Processing Record 28 of Set 1 | vizinga\n",
      "Processing Record 29 of Set 1 | kodiak\n",
      "Processing Record 30 of Set 1 | hamilton\n",
      "illoqqortoormiut not found\n",
      "Processing Record 31 of Set 1 | elliot lake\n",
      "Processing Record 32 of Set 1 | ambon\n",
      "Processing Record 33 of Set 1 | saskylakh\n",
      "Processing Record 34 of Set 1 | nyurba\n",
      "Processing Record 35 of Set 1 | georgetown\n",
      "Processing Record 36 of Set 1 | iracoubo\n",
      "Processing Record 37 of Set 1 | roblin\n",
      "Processing Record 38 of Set 1 | albany\n",
      "Processing Record 39 of Set 1 | codrington\n",
      "Processing Record 40 of Set 1 | provideniya\n",
      "Processing Record 41 of Set 1 | mandaguari\n",
      "Processing Record 42 of Set 1 | atuona\n",
      "Processing Record 43 of Set 1 | punta arenas\n",
      "Processing Record 44 of Set 1 | diego de almagro\n",
      "Processing Record 45 of Set 1 | busselton\n",
      "Processing Record 46 of Set 1 | yellowknife\n",
      "Processing Record 47 of Set 1 | cruzeiro do sul\n",
      "Processing Record 48 of Set 1 | victoria\n",
      "Processing Record 49 of Set 1 | tiksi\n",
      "tunxi not found\n",
      "Processing Record 50 of Set 1 | tuktoyaktuk\n",
      "Processing Record 51 of Set 1 | mount gambier\n",
      "Processing Record 52 of Set 1 | hermanus\n",
      "Processing Record 53 of Set 1 | avera\n",
      "Processing Record 54 of Set 1 | dikson\n",
      "Processing Record 55 of Set 1 | voru\n",
      "grand river south east not found\n",
      "Processing Record 56 of Set 1 | waddan\n",
      "Processing Record 57 of Set 1 | cape town\n",
      "Processing Record 58 of Set 1 | havre-saint-pierre\n",
      "Processing Record 59 of Set 1 | lalmohan\n",
      "Processing Record 60 of Set 1 | kudahuvadhoo\n",
      "Processing Record 61 of Set 1 | henties bay\n",
      "Processing Record 62 of Set 1 | pedro ii\n",
      "Processing Record 63 of Set 1 | neiafu\n",
      "Processing Record 64 of Set 1 | taoudenni\n",
      "Processing Record 65 of Set 1 | shetpe\n",
      "taolanaro not found\n",
      "sidi bu zayd not found\n",
      "rungata not found\n",
      "Processing Record 66 of Set 1 | sisimiut\n",
      "Processing Record 67 of Set 1 | luanda\n",
      "Processing Record 68 of Set 1 | ossora\n",
      "Processing Record 69 of Set 1 | mayo\n",
      "Processing Record 70 of Set 1 | maltahohe\n",
      "Processing Record 71 of Set 1 | kavaratti\n",
      "Processing Record 72 of Set 1 | linxia\n",
      "Processing Record 73 of Set 1 | husavik\n",
      "Processing Record 74 of Set 1 | cidreira\n",
      "Processing Record 75 of Set 1 | manzhouli\n",
      "Processing Record 76 of Set 1 | aklavik\n",
      "Processing Record 77 of Set 1 | batsfjord\n",
      "Processing Record 78 of Set 1 | conakry\n",
      "Processing Record 79 of Set 1 | upata\n",
      "Processing Record 80 of Set 1 | labelle\n",
      "Processing Record 81 of Set 1 | bethel\n",
      "Processing Record 82 of Set 1 | lodja\n",
      "amderma not found\n",
      "Processing Record 83 of Set 1 | hofn\n",
      "Processing Record 84 of Set 1 | katobu\n",
      "Processing Record 85 of Set 1 | ous\n",
      "Processing Record 86 of Set 1 | butaritari\n",
      "Processing Record 87 of Set 1 | le port\n",
      "Processing Record 88 of Set 1 | verkhnyaya inta\n",
      "Processing Record 89 of Set 1 | moron\n",
      "Processing Record 90 of Set 1 | nanortalik\n",
      "Processing Record 91 of Set 1 | neepawa\n",
      "Processing Record 92 of Set 1 | high level\n",
      "Processing Record 93 of Set 1 | kulhudhuffushi\n",
      "Processing Record 94 of Set 1 | hambantota\n",
      "Processing Record 95 of Set 1 | port macquarie\n",
      "tumannyy not found\n",
      "Processing Record 96 of Set 1 | eirunepe\n",
      "Processing Record 97 of Set 1 | souillac\n",
      "Processing Record 98 of Set 1 | huarmey\n",
      "Processing Record 99 of Set 1 | maniitsoq\n",
      "Processing Record 100 of Set 1 | meulaboh\n",
      "Processing Record 101 of Set 1 | synya\n",
      "Processing Record 102 of Set 1 | namibe\n",
      "Processing Record 103 of Set 1 | carutapera\n",
      "Processing Record 104 of Set 1 | hasaki\n",
      "Processing Record 105 of Set 1 | vila franca do campo\n",
      "Processing Record 106 of Set 1 | narsaq\n",
      "Processing Record 107 of Set 1 | tezu\n",
      "ziyamet not found\n",
      "Processing Record 108 of Set 1 | san quintin\n",
      "Processing Record 109 of Set 1 | kaseda\n",
      "Processing Record 110 of Set 1 | gotsu\n",
      "Processing Record 111 of Set 1 | port hardy\n",
      "Processing Record 112 of Set 1 | saint-philippe\n",
      "Processing Record 113 of Set 1 | vaini\n",
      "sentyabrskiy not found\n",
      "Processing Record 114 of Set 1 | hobyo\n",
      "Processing Record 115 of Set 1 | biak\n",
      "Processing Record 116 of Set 1 | bakchar\n",
      "mys shmidta not found\n",
      "Processing Record 117 of Set 1 | bluff\n",
      "Processing Record 118 of Set 1 | nacala\n",
      "Processing Record 119 of Set 1 | avarua\n",
      "Processing Record 120 of Set 1 | bay roberts\n",
      "Processing Record 121 of Set 1 | richards bay\n",
      "Processing Record 122 of Set 1 | ponta do sol\n",
      "Processing Record 123 of Set 1 | pevek\n",
      "Processing Record 124 of Set 1 | auki\n",
      "Processing Record 125 of Set 1 | kautokeino\n",
      "Processing Record 126 of Set 1 | bredasdorp\n",
      "Processing Record 127 of Set 1 | severo-kurilsk\n",
      "Processing Record 128 of Set 1 | cherskiy\n",
      "Processing Record 129 of Set 1 | leeuwarden\n",
      "Processing Record 130 of Set 1 | paungde\n",
      "Processing Record 131 of Set 1 | geraldton\n",
      "Processing Record 132 of Set 1 | padang\n",
      "Processing Record 133 of Set 1 | shingu\n",
      "Processing Record 134 of Set 1 | lebu\n",
      "Processing Record 135 of Set 1 | antigonish\n",
      "Processing Record 136 of Set 1 | saldanha\n",
      "Processing Record 137 of Set 1 | port alfred\n",
      "Processing Record 138 of Set 1 | torbay\n",
      "Processing Record 139 of Set 1 | thompson\n",
      "Processing Record 140 of Set 1 | ust-maya\n",
      "Processing Record 141 of Set 1 | batagay-alyta\n",
      "belushya guba not found\n",
      "Processing Record 142 of Set 1 | nikolskoye\n",
      "Processing Record 143 of Set 1 | lorengau\n",
      "Processing Record 144 of Set 1 | bom jesus da lapa\n",
      "Processing Record 145 of Set 1 | kapaa\n",
      "Processing Record 146 of Set 1 | lagoa\n",
      "Processing Record 147 of Set 1 | tasiilaq\n",
      "Processing Record 148 of Set 1 | portland\n",
      "juifang not found\n",
      "Processing Record 149 of Set 1 | muroto\n",
      "Processing Record 150 of Set 1 | surt\n",
      "Processing Record 151 of Set 1 | ust-tsilma\n",
      "Processing Record 152 of Set 1 | ribeira grande\n",
      "Processing Record 153 of Set 1 | tirur\n",
      "Processing Record 154 of Set 1 | cockburn town\n",
      "Processing Record 155 of Set 1 | olafsvik\n",
      "Processing Record 156 of Set 1 | khatanga\n",
      "Processing Record 157 of Set 1 | bridlington\n",
      "Processing Record 158 of Set 1 | bandarbeyla\n",
      "Processing Record 159 of Set 1 | tautira\n",
      "Processing Record 160 of Set 1 | plettenberg bay\n",
      "sogdiondon not found\n",
      "Processing Record 161 of Set 1 | saint george\n",
      "Processing Record 162 of Set 1 | pyaozerskiy\n",
      "Processing Record 163 of Set 1 | new norfolk\n",
      "Processing Record 164 of Set 1 | curillo\n",
      "Processing Record 165 of Set 1 | sola\n",
      "Processing Record 166 of Set 1 | mareeba\n",
      "Processing Record 167 of Set 1 | muzhi\n",
      "Processing Record 168 of Set 1 | benguela\n",
      "Processing Record 169 of Set 1 | srednekolymsk\n",
      "Processing Record 170 of Set 1 | walvis bay\n",
      "cazaje not found\n",
      "Processing Record 171 of Set 1 | cururupu\n",
      "Processing Record 172 of Set 1 | labuhan\n",
      "Processing Record 173 of Set 1 | krutinka\n",
      "samusu not found\n",
      "Processing Record 174 of Set 1 | kakogawa\n",
      "Processing Record 175 of Set 1 | kavieng\n",
      "Processing Record 176 of Set 1 | san jeronimo\n",
      "Processing Record 177 of Set 1 | delano\n",
      "Processing Record 178 of Set 1 | santa maria\n",
      "Processing Record 179 of Set 1 | sovetskiy\n",
      "Processing Record 180 of Set 1 | coihaique\n",
      "Processing Record 181 of Set 1 | tacuarembo\n",
      "Processing Record 182 of Set 1 | udachnyy\n",
      "Processing Record 183 of Set 1 | buraydah\n",
      "Processing Record 184 of Set 1 | valdivia\n",
      "Processing Record 185 of Set 1 | banda aceh\n",
      "Processing Record 186 of Set 1 | wangqing\n"
     ]
    },
    {
     "name": "stdout",
     "output_type": "stream",
     "text": [
      "Processing Record 187 of Set 1 | gamba\n",
      "Processing Record 188 of Set 1 | inta\n",
      "Processing Record 189 of Set 1 | esna\n",
      "Processing Record 190 of Set 1 | galesong\n",
      "aasmae not found\n",
      "Processing Record 191 of Set 1 | salinopolis\n",
      "Processing Record 192 of Set 1 | tomari\n",
      "Processing Record 193 of Set 1 | qasigiannguit\n",
      "Processing Record 194 of Set 1 | lasa\n",
      "Processing Record 195 of Set 1 | chokurdakh\n",
      "Processing Record 196 of Set 1 | torrington\n",
      "Processing Record 197 of Set 1 | north bend\n",
      "khomeynishahr not found\n",
      "Processing Record 198 of Set 1 | hithadhoo\n",
      "Processing Record 199 of Set 1 | sepuka\n",
      "Processing Record 200 of Set 1 | sobolevo\n",
      "Processing Record 201 of Set 1 | iqaluit\n",
      "Processing Record 202 of Set 1 | esperance\n",
      "Processing Record 203 of Set 1 | puerto madero\n",
      "Processing Record 204 of Set 1 | santa rosa\n",
      "Processing Record 205 of Set 1 | frankfort\n",
      "Processing Record 206 of Set 1 | cap malheureux\n",
      "Processing Record 207 of Set 1 | naze\n",
      "Processing Record 208 of Set 1 | los llanos de aridane\n",
      "Processing Record 209 of Set 1 | puerto ayora\n",
      "Processing Record 210 of Set 1 | oviedo\n",
      "Processing Record 211 of Set 1 | makasar\n",
      "Processing Record 212 of Set 1 | trinidad\n",
      "Processing Record 213 of Set 1 | mercedes\n",
      "Processing Record 214 of Set 1 | ust-kulom\n",
      "Processing Record 215 of Set 1 | dingle\n",
      "Processing Record 216 of Set 1 | clearlake\n",
      "Processing Record 217 of Set 1 | asau\n",
      "Processing Record 218 of Set 1 | kaitangata\n",
      "Processing Record 219 of Set 1 | formosa\n",
      "cheuskiny not found\n",
      "Processing Record 220 of Set 1 | san rafael\n",
      "Processing Record 221 of Set 1 | lubao\n",
      "Processing Record 222 of Set 1 | durazno\n",
      "tocantinopolis not found\n",
      "Processing Record 223 of Set 1 | san cristobal\n",
      "Processing Record 224 of Set 1 | leningradskiy\n",
      "Processing Record 225 of Set 1 | dalvik\n",
      "Processing Record 226 of Set 1 | aquiraz\n",
      "Processing Record 227 of Set 1 | mackenzie\n",
      "Processing Record 228 of Set 1 | matagami\n",
      "borlange not found\n",
      "Processing Record 229 of Set 1 | taguatinga\n",
      "Processing Record 230 of Set 1 | mazyr\n",
      "Processing Record 231 of Set 1 | puerto leguizamo\n",
      "Processing Record 232 of Set 1 | ishigaki\n",
      "Processing Record 233 of Set 1 | cayenne\n",
      "Processing Record 234 of Set 1 | adrar\n",
      "Processing Record 235 of Set 1 | grand gaube\n",
      "Processing Record 236 of Set 1 | okhotsk\n",
      "Processing Record 237 of Set 1 | selje\n",
      "Processing Record 238 of Set 1 | keningau\n",
      "Processing Record 239 of Set 1 | bichena\n",
      "Processing Record 240 of Set 1 | maneadero\n",
      "Processing Record 241 of Set 1 | uthal\n",
      "kamenskoye not found\n",
      "Processing Record 242 of Set 1 | maua\n",
      "Processing Record 243 of Set 1 | carnarvon\n",
      "Processing Record 244 of Set 1 | nishihara\n",
      "Processing Record 245 of Set 1 | malazgirt\n",
      "Processing Record 246 of Set 1 | xinzhi\n",
      "Processing Record 247 of Set 1 | kenai\n",
      "Processing Record 248 of Set 1 | praia da vitoria\n",
      "barentsburg not found\n",
      "Processing Record 249 of Set 1 | touros\n",
      "Processing Record 250 of Set 1 | grindavik\n",
      "Processing Record 251 of Set 1 | bhavnagar\n",
      "Processing Record 252 of Set 1 | otane\n",
      "Processing Record 253 of Set 1 | wajima\n",
      "Processing Record 254 of Set 1 | lodeynoye pole\n",
      "Processing Record 255 of Set 1 | barysh\n",
      "ozgon not found\n",
      "Processing Record 256 of Set 1 | luderitz\n",
      "Processing Record 257 of Set 1 | west wendover\n",
      "halalo not found\n",
      "Processing Record 258 of Set 1 | mount isa\n",
      "Processing Record 259 of Set 1 | qixingtai\n",
      "Processing Record 260 of Set 1 | port blair\n",
      "Processing Record 261 of Set 1 | komsomolskiy\n",
      "Processing Record 262 of Set 1 | tateyama\n",
      "Processing Record 263 of Set 1 | san jose\n",
      "Processing Record 264 of Set 1 | aksarka\n",
      "nizhneyansk not found\n",
      "Processing Record 265 of Set 1 | samarai\n",
      "Processing Record 266 of Set 1 | ahipara\n",
      "Processing Record 267 of Set 1 | port hueneme\n",
      "Processing Record 268 of Set 1 | malur\n",
      "Processing Record 269 of Set 1 | bull savanna\n",
      "Processing Record 270 of Set 1 | oksfjord\n",
      "Processing Record 271 of Set 1 | umm kaddadah\n",
      "Processing Record 272 of Set 1 | malinovoye ozero\n",
      "Processing Record 273 of Set 1 | chumikan\n",
      "Processing Record 274 of Set 1 | asyut\n",
      "Processing Record 275 of Set 1 | luang prabang\n",
      "Processing Record 276 of Set 1 | yeppoon\n",
      "Processing Record 277 of Set 1 | daru\n",
      "Processing Record 278 of Set 1 | sorland\n",
      "attawapiskat not found\n",
      "Processing Record 279 of Set 1 | kununurra\n",
      "Processing Record 280 of Set 1 | salalah\n",
      "Processing Record 281 of Set 1 | sitka\n",
      "Processing Record 282 of Set 1 | isangel\n",
      "Processing Record 283 of Set 1 | bambous virieux\n",
      "Processing Record 284 of Set 1 | banjar\n",
      "Processing Record 285 of Set 1 | talcahuano\n",
      "pousat not found\n",
      "Processing Record 286 of Set 1 | tiznit\n",
      "Processing Record 287 of Set 1 | virginia beach\n",
      "Processing Record 288 of Set 1 | pacifica\n",
      "Processing Record 289 of Set 1 | klaksvik\n",
      "marcona not found\n",
      "Processing Record 290 of Set 1 | roma\n",
      "Processing Record 291 of Set 1 | changji\n",
      "Processing Record 292 of Set 1 | saravena\n",
      "Processing Record 293 of Set 1 | karratha\n",
      "Processing Record 294 of Set 1 | fortuna\n",
      "Processing Record 295 of Set 1 | san policarpo\n",
      "Processing Record 296 of Set 1 | constitucion\n",
      "Processing Record 297 of Set 1 | ordynskoye\n",
      "Processing Record 298 of Set 1 | saint-denis\n",
      "Processing Record 299 of Set 1 | wakkanai\n",
      "vaitupu not found\n",
      "Processing Record 300 of Set 1 | sroda wielkopolska\n",
      "Processing Record 301 of Set 1 | konakovo\n",
      "Processing Record 302 of Set 1 | ploemeur\n",
      "Processing Record 303 of Set 1 | inhambane\n",
      "Processing Record 304 of Set 1 | axim\n",
      "Processing Record 305 of Set 1 | gazanjyk\n",
      "Processing Record 306 of Set 1 | hailar\n",
      "kadykchan not found\n",
      "Processing Record 307 of Set 1 | sainte-thecle\n",
      "Processing Record 308 of Set 1 | barrow\n",
      "Processing Record 309 of Set 1 | puerto ayacucho\n",
      "Processing Record 310 of Set 1 | kamenka\n",
      "Processing Record 311 of Set 1 | ihosy\n",
      "Processing Record 312 of Set 1 | mayskiy\n",
      "Processing Record 313 of Set 1 | bria\n",
      "Processing Record 314 of Set 1 | gonen\n",
      "Processing Record 315 of Set 1 | college station\n",
      "Processing Record 316 of Set 1 | port elizabeth\n",
      "Processing Record 317 of Set 1 | novoseleznevo\n",
      "Processing Record 318 of Set 1 | vestmannaeyjar\n",
      "alotau not found\n",
      "Processing Record 319 of Set 1 | krasnyy chikoy\n",
      "Processing Record 320 of Set 1 | sao filipe\n",
      "Processing Record 321 of Set 1 | dubrovytsya\n",
      "Processing Record 322 of Set 1 | banjarmasin\n",
      "Processing Record 323 of Set 1 | dargaville\n",
      "Processing Record 324 of Set 1 | aykhal\n",
      "Processing Record 325 of Set 1 | ilulissat\n",
      "Processing Record 326 of Set 1 | rovaniemi\n",
      "karkaralinsk not found\n",
      "Processing Record 327 of Set 1 | fuengirola\n",
      "Processing Record 328 of Set 1 | williams lake\n",
      "Processing Record 329 of Set 1 | kuragino\n",
      "Processing Record 330 of Set 1 | lufilufi\n",
      "Processing Record 331 of Set 1 | vardo\n",
      "Processing Record 332 of Set 1 | iskateley\n",
      "Processing Record 333 of Set 1 | petrodvorets\n",
      "Processing Record 334 of Set 1 | moindou\n",
      "Processing Record 335 of Set 1 | marawi\n",
      "Processing Record 336 of Set 1 | lesogorsk\n",
      "Processing Record 337 of Set 1 | chokwe\n",
      "Processing Record 338 of Set 1 | balagunan\n",
      "Processing Record 339 of Set 1 | belmonte\n",
      "Processing Record 340 of Set 1 | san buenaventura\n",
      "Processing Record 341 of Set 1 | coolum beach\n",
      "silyanah not found\n",
      "Processing Record 342 of Set 1 | warrington\n",
      "safwah not found\n",
      "Processing Record 343 of Set 1 | chalus\n",
      "Processing Record 344 of Set 1 | bathsheba\n",
      "Processing Record 345 of Set 1 | faanui\n",
      "Processing Record 346 of Set 1 | chuy\n",
      "Processing Record 347 of Set 1 | kruisfontein\n",
      "sumbawa not found\n",
      "Processing Record 348 of Set 1 | miyako\n",
      "Processing Record 349 of Set 1 | mumford\n",
      "Processing Record 350 of Set 1 | turangi\n",
      "warqla not found\n",
      "Processing Record 351 of Set 1 | kaeo\n",
      "Processing Record 352 of Set 1 | ambilobe\n",
      "Processing Record 353 of Set 1 | marsh harbour\n",
      "Processing Record 354 of Set 1 | houma\n",
      "Processing Record 355 of Set 1 | katsuura\n",
      "Processing Record 356 of Set 1 | belomorsk\n",
      "khormuj not found\n",
      "Processing Record 357 of Set 1 | esmeraldas\n",
      "Processing Record 358 of Set 1 | sayyan\n",
      "Processing Record 359 of Set 1 | sao joao da barra\n",
      "Processing Record 360 of Set 1 | whitehorse\n",
      "Processing Record 361 of Set 1 | poso\n",
      "Processing Record 362 of Set 1 | moose factory\n",
      "Processing Record 363 of Set 1 | santa isabel do rio negro\n",
      "Processing Record 364 of Set 1 | tver\n",
      "Processing Record 365 of Set 1 | tete\n",
      "Processing Record 366 of Set 1 | warrnambool\n",
      "Processing Record 367 of Set 1 | djenne\n",
      "Processing Record 368 of Set 1 | sibolga\n"
     ]
    },
    {
     "name": "stdout",
     "output_type": "stream",
     "text": [
      "Processing Record 369 of Set 1 | araguaina\n",
      "Processing Record 370 of Set 1 | aden\n",
      "Processing Record 371 of Set 1 | ketchikan\n",
      "Processing Record 372 of Set 1 | mana\n",
      "Processing Record 373 of Set 1 | fereydun kenar\n",
      "Processing Record 374 of Set 1 | kalmunai\n",
      "Processing Record 375 of Set 1 | braniewo\n",
      "Processing Record 376 of Set 1 | namatanai\n",
      "Processing Record 377 of Set 1 | smidovich\n",
      "Processing Record 378 of Set 1 | makakilo city\n",
      "Processing Record 379 of Set 1 | omsukchan\n",
      "Processing Record 380 of Set 1 | ostrovnoy\n",
      "Processing Record 381 of Set 1 | quatre cocos\n",
      "Processing Record 382 of Set 1 | vila praia de ancora\n",
      "Processing Record 383 of Set 1 | kishorganj\n",
      "Processing Record 384 of Set 1 | atbasar\n",
      "Processing Record 385 of Set 1 | centralia\n",
      "Processing Record 386 of Set 1 | zyryanka\n",
      "tsihombe not found\n",
      "Processing Record 387 of Set 1 | okha\n",
      "Processing Record 388 of Set 1 | badulla\n",
      "Processing Record 389 of Set 1 | asha\n",
      "Processing Record 390 of Set 1 | burns lake\n",
      "Processing Record 391 of Set 1 | tananger\n",
      "Processing Record 392 of Set 1 | yerbogachen\n",
      "Processing Record 393 of Set 1 | caravelas\n",
      "Processing Record 394 of Set 1 | pacific grove\n",
      "Processing Record 395 of Set 1 | sampit\n",
      "Processing Record 396 of Set 1 | innisfail\n",
      "Processing Record 397 of Set 1 | beyneu\n",
      "Processing Record 398 of Set 1 | gasa\n",
      "Processing Record 399 of Set 1 | poum\n",
      "Processing Record 400 of Set 1 | sinnamary\n",
      "Processing Record 401 of Set 1 | juneau\n",
      "Processing Record 402 of Set 1 | nahavand\n",
      "coulihaut not found\n",
      "Processing Record 403 of Set 1 | kota kinabalu\n",
      "ust-kamchatsk not found\n",
      "Processing Record 404 of Set 1 | kualakapuas\n",
      "Processing Record 405 of Set 1 | dukat\n",
      "Processing Record 406 of Set 1 | marsa matruh\n",
      "Processing Record 407 of Set 1 | puerto escondido\n",
      "Processing Record 408 of Set 1 | ayr\n",
      "Processing Record 409 of Set 1 | bitkine\n",
      "Processing Record 410 of Set 1 | brigantine\n",
      "Processing Record 411 of Set 1 | nizhniy chir\n",
      "Processing Record 412 of Set 1 | norman wells\n",
      "Processing Record 413 of Set 1 | saint-pierre\n",
      "Processing Record 414 of Set 1 | beloha\n",
      "chom bung not found\n",
      "Processing Record 415 of Set 1 | birao\n",
      "Processing Record 416 of Set 1 | egvekinot\n",
      "Processing Record 417 of Set 1 | northam\n",
      "Processing Record 418 of Set 1 | liancheng\n",
      "Processing Record 419 of Set 1 | dicabisagan\n",
      "Processing Record 420 of Set 1 | kushima\n",
      "Processing Record 421 of Set 1 | qaqortoq\n",
      "Processing Record 422 of Set 1 | sangar\n",
      "Processing Record 423 of Set 1 | saint pete beach\n",
      "Processing Record 424 of Set 1 | kolosovka\n",
      "Processing Record 425 of Set 1 | novopokrovskaya\n",
      "Processing Record 426 of Set 1 | bubaque\n",
      "Processing Record 427 of Set 1 | vieste\n",
      "Processing Record 428 of Set 1 | puntarenas\n",
      "Processing Record 429 of Set 1 | gravdal\n",
      "Processing Record 430 of Set 1 | berlevag\n",
      "Processing Record 431 of Set 1 | necochea\n",
      "Processing Record 432 of Set 1 | aubenas\n",
      "Processing Record 433 of Set 1 | moerai\n",
      "Processing Record 434 of Set 1 | tarnogskiy gorodok\n",
      "Processing Record 435 of Set 1 | rawson\n",
      "Processing Record 436 of Set 1 | talaya\n",
      "Processing Record 437 of Set 1 | nadym\n",
      "Processing Record 438 of Set 1 | pathein\n",
      "sorvag not found\n",
      "urdzhar not found\n",
      "Processing Record 439 of Set 1 | shujalpur\n",
      "Processing Record 440 of Set 1 | panzhihua\n",
      "Processing Record 441 of Set 1 | tomatlan\n",
      "Processing Record 442 of Set 1 | fairbanks\n",
      "Processing Record 443 of Set 1 | woodward\n",
      "Processing Record 444 of Set 1 | gat\n",
      "Processing Record 445 of Set 1 | healdsburg\n",
      "Processing Record 446 of Set 1 | cooma\n",
      "Processing Record 447 of Set 1 | rio grande\n",
      "gumushane not found\n",
      "Processing Record 448 of Set 1 | bure\n",
      "Processing Record 449 of Set 1 | sao gabriel da cachoeira\n",
      "Processing Record 450 of Set 1 | bose\n",
      "Processing Record 451 of Set 1 | el real de santa maria\n",
      "Processing Record 452 of Set 1 | evensk\n",
      "Processing Record 453 of Set 1 | tarbagatay\n",
      "Processing Record 454 of Set 1 | chernukha\n",
      "daxian not found\n",
      "Processing Record 455 of Set 1 | arua\n",
      "Processing Record 456 of Set 1 | port lincoln\n",
      "Processing Record 457 of Set 1 | mwense\n",
      "Processing Record 458 of Set 1 | calama\n",
      "Processing Record 459 of Set 1 | zambezi\n",
      "Processing Record 460 of Set 1 | sibut\n",
      "saleaula not found\n",
      "Processing Record 461 of Set 1 | hudiksvall\n",
      "Processing Record 462 of Set 1 | penzance\n",
      "Processing Record 463 of Set 1 | namtsy\n",
      "Processing Record 464 of Set 1 | yulara\n",
      "Processing Record 465 of Set 1 | opuwo\n",
      "Processing Record 466 of Set 1 | luxor\n",
      "Processing Record 467 of Set 1 | kungurtug\n",
      "Processing Record 468 of Set 1 | kidal\n",
      "Processing Record 469 of Set 1 | sao felix do xingu\n",
      "Processing Record 470 of Set 1 | nguruka\n",
      "Processing Record 471 of Set 1 | birjand\n",
      "Processing Record 472 of Set 1 | kashi\n",
      "Processing Record 473 of Set 1 | fort nelson\n",
      "Processing Record 474 of Set 1 | podgornoye\n",
      "Processing Record 475 of Set 1 | sorong\n",
      "Processing Record 476 of Set 1 | azare\n",
      "Processing Record 477 of Set 1 | ures\n",
      "Processing Record 478 of Set 1 | uglovskoye\n",
      "Processing Record 479 of Set 1 | beringovskiy\n",
      "Processing Record 480 of Set 1 | awbari\n",
      "Processing Record 481 of Set 1 | truth or consequences\n",
      "Processing Record 482 of Set 1 | xapuri\n",
      "Processing Record 483 of Set 1 | general roca\n",
      "Processing Record 484 of Set 1 | kargasok\n",
      "Processing Record 485 of Set 1 | kapit\n",
      "Processing Record 486 of Set 1 | hauterive\n",
      "Processing Record 487 of Set 1 | batticaloa\n",
      "Processing Record 488 of Set 1 | loukhi\n",
      "Processing Record 489 of Set 1 | balmazujvaros\n",
      "Processing Record 490 of Set 1 | itarema\n",
      "Processing Record 491 of Set 1 | la palma\n",
      "Processing Record 492 of Set 1 | bosaso\n",
      "Processing Record 493 of Set 1 | xining\n",
      "Processing Record 494 of Set 1 | mersing\n",
      "Processing Record 495 of Set 1 | lere\n",
      "Processing Record 496 of Set 1 | demba\n",
      "Processing Record 497 of Set 1 | mirnyy\n",
      "Processing Record 498 of Set 1 | zhigansk\n",
      "Processing Record 499 of Set 1 | sayanogorsk\n",
      "Processing Record 500 of Set 1 | pundaguitan\n",
      "burica not found\n",
      "Processing Record 501 of Set 1 | koshurnikovo\n",
      "Processing Record 502 of Set 1 | lewisporte\n",
      "Processing Record 503 of Set 1 | raudeberg\n",
      "Processing Record 504 of Set 1 | verkhniy ufaley\n",
      "Processing Record 505 of Set 1 | praia\n",
      "Processing Record 506 of Set 1 | yerofey pavlovich\n",
      "Processing Record 507 of Set 1 | garden city\n",
      "Processing Record 508 of Set 1 | suarez\n",
      "Processing Record 509 of Set 1 | russell\n",
      "Processing Record 510 of Set 1 | constantine\n",
      "Processing Record 511 of Set 1 | kreminna\n",
      "Processing Record 512 of Set 1 | comodoro rivadavia\n",
      "Processing Record 513 of Set 1 | nador\n",
      "Processing Record 514 of Set 1 | salisbury\n",
      "Processing Record 515 of Set 1 | prainha\n",
      "Processing Record 516 of Set 1 | bet shemesh\n",
      "Processing Record 517 of Set 1 | balkanabat\n",
      "Processing Record 518 of Set 1 | muzaffarabad\n",
      "Processing Record 519 of Set 1 | inirida\n",
      "Processing Record 520 of Set 1 | zhezkazgan\n",
      "zhitikara not found\n",
      "Processing Record 521 of Set 1 | talakan\n",
      "Processing Record 522 of Set 1 | teguise\n",
      "Processing Record 523 of Set 1 | carmen\n",
      "Processing Record 524 of Set 1 | gidole\n",
      "thilogne not found\n",
      "Processing Record 525 of Set 1 | nurota\n",
      "Processing Record 526 of Set 1 | telenesti\n",
      "Processing Record 527 of Set 1 | deputatskiy\n",
      "Processing Record 528 of Set 1 | welkom\n",
      "Processing Record 529 of Set 1 | urucui\n",
      "Processing Record 530 of Set 1 | dixon\n",
      "Processing Record 531 of Set 1 | talara\n",
      "Processing Record 532 of Set 1 | goderich\n",
      "Processing Record 533 of Set 1 | lata\n",
      "Processing Record 534 of Set 1 | kahului\n",
      "Processing Record 535 of Set 1 | yar-sale\n",
      "Processing Record 536 of Set 1 | mindelo\n",
      "Processing Record 537 of Set 1 | ulaangom\n",
      "Processing Record 538 of Set 1 | boueni\n",
      "Processing Record 539 of Set 1 | nelson bay\n",
      "Processing Record 540 of Set 1 | margate\n",
      "Processing Record 541 of Set 1 | tromso\n",
      "Processing Record 542 of Set 1 | saint-augustin\n",
      "Processing Record 543 of Set 1 | lima\n",
      "Processing Record 544 of Set 1 | abu samrah\n",
      "Processing Record 545 of Set 1 | lewistown\n",
      "Processing Record 546 of Set 1 | mombaca\n",
      "Processing Record 547 of Set 1 | saint anthony\n",
      "Processing Record 548 of Set 1 | port hedland\n",
      "Processing Record 549 of Set 1 | kramat\n",
      "Processing Record 550 of Set 1 | rabak\n",
      "Processing Record 551 of Set 1 | sakakah\n",
      "palabuhanratu not found\n",
      "Processing Record 552 of Set 1 | tarata\n",
      "Processing Record 553 of Set 1 | ilovlya\n",
      "Processing Record 554 of Set 1 | talnakh\n",
      "Processing Record 555 of Set 1 | sri aman\n"
     ]
    },
    {
     "name": "stdout",
     "output_type": "stream",
     "text": [
      "Processing Record 556 of Set 1 | nome\n",
      "umzimvubu not found\n",
      "Processing Record 557 of Set 1 | killybegs\n",
      "Processing Record 558 of Set 1 | cherrapunji\n",
      "asayita not found\n",
      "Processing Record 559 of Set 1 | turukhansk\n",
      "Processing Record 560 of Set 1 | ixtapa\n",
      "Processing Record 561 of Set 1 | inongo\n",
      "Processing Record 562 of Set 1 | ugoofaaru\n",
      "Processing Record 563 of Set 1 | chapais\n",
      "Processing Record 564 of Set 1 | yashkul\n",
      "Processing Record 565 of Set 1 | scarborough\n",
      "Processing Record 566 of Set 1 | plouzane\n",
      "Processing Record 567 of Set 1 | serebryanyy bor\n",
      "Processing Record 568 of Set 1 | vrangel\n",
      "Processing Record 569 of Set 1 | dunedin\n",
      "Processing Record 570 of Set 1 | nemuro\n",
      "Processing Record 571 of Set 1 | ponta delgada\n",
      "Processing Record 572 of Set 1 | lanzhou\n",
      "Processing Record 573 of Set 1 | guerrero negro\n",
      "Processing Record 574 of Set 1 | formosa do rio preto\n",
      "Processing Record 575 of Set 1 | barcelos\n",
      "----------------------------- \n",
      "Data Retrieval Complete 575 cities analyzed \n",
      "-----------------------------\n"
     ]
    }
   ],
   "source": [
    "\n",
    "lat = []\n",
    "long = []\n",
    "Max_Temp = []\n",
    "Humidity = []\n",
    "Cloudiness = []\n",
    "Wind_Speed = []\n",
    "Country = []\n",
    "Date = []\n",
    "finalcities = []\n",
    "\n",
    "counter = 0\n",
    "secondcounter = 0\n",
    "print(len(cities))\n",
    "print(f\"Beginning Data Retrieval for {len(cities)} cities \\n-----------------------------\")\n",
    "for city  in cities:\n",
    "    url = f\"https://api.openweathermap.org/data/2.5/weather?q={city}&appid={weather_api_key}&units=imperial\"\n",
    "    response = requests.get(url).json()\n",
    "    try:\n",
    "        lat.append(response['coord'][\"lat\"])\n",
    "        long.append(response['coord'][\"lon\"])\n",
    "        Max_Temp.append(response[\"main\"][\"temp_max\"])\n",
    "        Humidity.append(response[\"main\"][\"humidity\"])\n",
    "        Cloudiness.append(response[\"clouds\"][\"all\"])\n",
    "        Wind_Speed.append(response[\"wind\"][\"speed\"])\n",
    "        Country.append(response[\"sys\"][\"country\"])\n",
    "        Date.append(response[\"dt\"])\n",
    "        counter += 1\n",
    "        print(f\"Processing Record {counter} of Set 1 | {city}\")\n",
    "        finalcities.append(city)\n",
    "    except: \n",
    "        print(f\"{city} not found\")\n",
    "        secondcounter +=1\n",
    "        pass\n",
    "    time.sleep(3)\n",
    "print(f\"----------------------------- \\nData Retrieval Complete {counter} cities analyzed \\n-----------------------------\")"
   ]
  },
  {
   "cell_type": "markdown",
   "metadata": {},
   "source": [
    "### Convert Raw Data to DataFrame\n",
    "* Export the city data into a .csv.\n",
    "* Display the DataFrame"
   ]
  },
  {
   "cell_type": "code",
   "execution_count": 28,
   "metadata": {},
   "outputs": [
    {
     "data": {
      "text/html": [
       "<div>\n",
       "<style scoped>\n",
       "    .dataframe tbody tr th:only-of-type {\n",
       "        vertical-align: middle;\n",
       "    }\n",
       "\n",
       "    .dataframe tbody tr th {\n",
       "        vertical-align: top;\n",
       "    }\n",
       "\n",
       "    .dataframe thead th {\n",
       "        text-align: right;\n",
       "    }\n",
       "</style>\n",
       "<table border=\"1\" class=\"dataframe\">\n",
       "  <thead>\n",
       "    <tr style=\"text-align: right;\">\n",
       "      <th></th>\n",
       "      <th>City</th>\n",
       "      <th>Lat</th>\n",
       "      <th>Lon</th>\n",
       "      <th>Max_Temp</th>\n",
       "      <th>Humidity</th>\n",
       "      <th>Cloudiness</th>\n",
       "      <th>Wind_Speed</th>\n",
       "      <th>Country</th>\n",
       "      <th>Date</th>\n",
       "    </tr>\n",
       "  </thead>\n",
       "  <tbody>\n",
       "    <tr>\n",
       "      <th>0</th>\n",
       "      <td>kroya</td>\n",
       "      <td>-7.6331</td>\n",
       "      <td>109.2461</td>\n",
       "      <td>86.79</td>\n",
       "      <td>57</td>\n",
       "      <td>4</td>\n",
       "      <td>12.62</td>\n",
       "      <td>ID</td>\n",
       "      <td>1618900483</td>\n",
       "    </tr>\n",
       "    <tr>\n",
       "      <th>1</th>\n",
       "      <td>arraial do cabo</td>\n",
       "      <td>-22.9661</td>\n",
       "      <td>-42.0278</td>\n",
       "      <td>73.90</td>\n",
       "      <td>78</td>\n",
       "      <td>30</td>\n",
       "      <td>27.31</td>\n",
       "      <td>BR</td>\n",
       "      <td>1618900487</td>\n",
       "    </tr>\n",
       "    <tr>\n",
       "      <th>2</th>\n",
       "      <td>cabo san lucas</td>\n",
       "      <td>22.8909</td>\n",
       "      <td>-109.9124</td>\n",
       "      <td>69.01</td>\n",
       "      <td>85</td>\n",
       "      <td>36</td>\n",
       "      <td>7.18</td>\n",
       "      <td>MX</td>\n",
       "      <td>1618900448</td>\n",
       "    </tr>\n",
       "    <tr>\n",
       "      <th>3</th>\n",
       "      <td>longyearbyen</td>\n",
       "      <td>78.2186</td>\n",
       "      <td>15.6401</td>\n",
       "      <td>28.40</td>\n",
       "      <td>69</td>\n",
       "      <td>75</td>\n",
       "      <td>12.66</td>\n",
       "      <td>SJ</td>\n",
       "      <td>1618900494</td>\n",
       "    </tr>\n",
       "    <tr>\n",
       "      <th>4</th>\n",
       "      <td>ancud</td>\n",
       "      <td>-41.8697</td>\n",
       "      <td>-73.8203</td>\n",
       "      <td>46.99</td>\n",
       "      <td>100</td>\n",
       "      <td>0</td>\n",
       "      <td>2.84</td>\n",
       "      <td>CL</td>\n",
       "      <td>1618900497</td>\n",
       "    </tr>\n",
       "  </tbody>\n",
       "</table>\n",
       "</div>"
      ],
      "text/plain": [
       "              City      Lat       Lon  Max_Temp  Humidity  Cloudiness  \\\n",
       "0            kroya  -7.6331  109.2461     86.79        57           4   \n",
       "1  arraial do cabo -22.9661  -42.0278     73.90        78          30   \n",
       "2   cabo san lucas  22.8909 -109.9124     69.01        85          36   \n",
       "3     longyearbyen  78.2186   15.6401     28.40        69          75   \n",
       "4            ancud -41.8697  -73.8203     46.99       100           0   \n",
       "\n",
       "   Wind_Speed Country        Date  \n",
       "0       12.62      ID  1618900483  \n",
       "1       27.31      BR  1618900487  \n",
       "2        7.18      MX  1618900448  \n",
       "3       12.66      SJ  1618900494  \n",
       "4        2.84      CL  1618900497  "
      ]
     },
     "execution_count": 28,
     "metadata": {},
     "output_type": "execute_result"
    }
   ],
   "source": [
    "dicter = {\"City\": finalcities,\n",
    "          \"Lat\": lat, \n",
    "          \"Lon\" : long, \n",
    "          \"Max_Temp\": Max_Temp, \n",
    "          \"Humidity\" : Humidity, \n",
    "          \"Cloudiness\" : Cloudiness, \n",
    "          \"Wind_Speed\" : Wind_Speed, \n",
    "          \"Country\" : Country,\n",
    "          \"Date\" : Date}\n",
    "city_frame = pd.DataFrame(dicter)\n",
    "city_frame.to_csv('output_data/city_data.csv', index = False)\n",
    "city_frame.head()"
   ]
  },
  {
   "cell_type": "code",
   "execution_count": 29,
   "metadata": {},
   "outputs": [
    {
     "data": {
      "text/html": [
       "<div>\n",
       "<style scoped>\n",
       "    .dataframe tbody tr th:only-of-type {\n",
       "        vertical-align: middle;\n",
       "    }\n",
       "\n",
       "    .dataframe tbody tr th {\n",
       "        vertical-align: top;\n",
       "    }\n",
       "\n",
       "    .dataframe thead th {\n",
       "        text-align: right;\n",
       "    }\n",
       "</style>\n",
       "<table border=\"1\" class=\"dataframe\">\n",
       "  <thead>\n",
       "    <tr style=\"text-align: right;\">\n",
       "      <th></th>\n",
       "      <th>Lat</th>\n",
       "      <th>Lon</th>\n",
       "      <th>Max_Temp</th>\n",
       "      <th>Humidity</th>\n",
       "      <th>Cloudiness</th>\n",
       "      <th>Wind_Speed</th>\n",
       "      <th>Date</th>\n",
       "    </tr>\n",
       "  </thead>\n",
       "  <tbody>\n",
       "    <tr>\n",
       "      <th>count</th>\n",
       "      <td>575.000000</td>\n",
       "      <td>575.000000</td>\n",
       "      <td>575.000000</td>\n",
       "      <td>575.000000</td>\n",
       "      <td>575.000000</td>\n",
       "      <td>575.000000</td>\n",
       "      <td>5.750000e+02</td>\n",
       "    </tr>\n",
       "    <tr>\n",
       "      <th>mean</th>\n",
       "      <td>22.019337</td>\n",
       "      <td>19.649870</td>\n",
       "      <td>59.975357</td>\n",
       "      <td>68.133913</td>\n",
       "      <td>55.436522</td>\n",
       "      <td>8.387287</td>\n",
       "      <td>1.618902e+09</td>\n",
       "    </tr>\n",
       "    <tr>\n",
       "      <th>std</th>\n",
       "      <td>33.901521</td>\n",
       "      <td>89.834619</td>\n",
       "      <td>21.045952</td>\n",
       "      <td>23.255387</td>\n",
       "      <td>40.915938</td>\n",
       "      <td>5.718829</td>\n",
       "      <td>6.513348e+02</td>\n",
       "    </tr>\n",
       "    <tr>\n",
       "      <th>min</th>\n",
       "      <td>-54.800000</td>\n",
       "      <td>-179.166700</td>\n",
       "      <td>-4.990000</td>\n",
       "      <td>6.000000</td>\n",
       "      <td>0.000000</td>\n",
       "      <td>0.180000</td>\n",
       "      <td>1.618900e+09</td>\n",
       "    </tr>\n",
       "    <tr>\n",
       "      <th>25%</th>\n",
       "      <td>-5.257750</td>\n",
       "      <td>-55.515750</td>\n",
       "      <td>45.000000</td>\n",
       "      <td>54.000000</td>\n",
       "      <td>13.000000</td>\n",
       "      <td>3.850000</td>\n",
       "      <td>1.618901e+09</td>\n",
       "    </tr>\n",
       "    <tr>\n",
       "      <th>50%</th>\n",
       "      <td>28.017000</td>\n",
       "      <td>26.706600</td>\n",
       "      <td>62.600000</td>\n",
       "      <td>73.000000</td>\n",
       "      <td>73.000000</td>\n",
       "      <td>7.450000</td>\n",
       "      <td>1.618902e+09</td>\n",
       "    </tr>\n",
       "    <tr>\n",
       "      <th>75%</th>\n",
       "      <td>51.339000</td>\n",
       "      <td>98.151000</td>\n",
       "      <td>77.000000</td>\n",
       "      <td>87.000000</td>\n",
       "      <td>99.500000</td>\n",
       "      <td>11.730000</td>\n",
       "      <td>1.618902e+09</td>\n",
       "    </tr>\n",
       "    <tr>\n",
       "      <th>max</th>\n",
       "      <td>78.218600</td>\n",
       "      <td>179.316700</td>\n",
       "      <td>101.700000</td>\n",
       "      <td>100.000000</td>\n",
       "      <td>100.000000</td>\n",
       "      <td>31.320000</td>\n",
       "      <td>1.618903e+09</td>\n",
       "    </tr>\n",
       "  </tbody>\n",
       "</table>\n",
       "</div>"
      ],
      "text/plain": [
       "              Lat         Lon    Max_Temp    Humidity  Cloudiness  Wind_Speed  \\\n",
       "count  575.000000  575.000000  575.000000  575.000000  575.000000  575.000000   \n",
       "mean    22.019337   19.649870   59.975357   68.133913   55.436522    8.387287   \n",
       "std     33.901521   89.834619   21.045952   23.255387   40.915938    5.718829   \n",
       "min    -54.800000 -179.166700   -4.990000    6.000000    0.000000    0.180000   \n",
       "25%     -5.257750  -55.515750   45.000000   54.000000   13.000000    3.850000   \n",
       "50%     28.017000   26.706600   62.600000   73.000000   73.000000    7.450000   \n",
       "75%     51.339000   98.151000   77.000000   87.000000   99.500000   11.730000   \n",
       "max     78.218600  179.316700  101.700000  100.000000  100.000000   31.320000   \n",
       "\n",
       "               Date  \n",
       "count  5.750000e+02  \n",
       "mean   1.618902e+09  \n",
       "std    6.513348e+02  \n",
       "min    1.618900e+09  \n",
       "25%    1.618901e+09  \n",
       "50%    1.618902e+09  \n",
       "75%    1.618902e+09  \n",
       "max    1.618903e+09  "
      ]
     },
     "execution_count": 29,
     "metadata": {},
     "output_type": "execute_result"
    }
   ],
   "source": [
    "city_frame.describe()"
   ]
  },
  {
   "cell_type": "markdown",
   "metadata": {},
   "source": [
    "## Inspect the data and remove the cities where the humidity > 100%.\n",
    "----\n",
    "Skip this step if there are no cities that have humidity > 100%. "
   ]
  },
  {
   "cell_type": "code",
   "execution_count": 30,
   "metadata": {},
   "outputs": [],
   "source": [
    "#  Get the indices of cities that have humidity over 100%.\n",
    "clean_city_data = city_frame.loc[city_frame[\"Humidity\"] < 100]\n",
    "clean_city_data\n",
    "clean_city_data.to_csv('output_data/clean_city_data.csv', index = False)"
   ]
  },
  {
   "cell_type": "markdown",
   "metadata": {},
   "source": [
    "## Plotting the Data\n",
    "* Use proper labeling of the plots using plot titles (including date of analysis) and axes labels.\n",
    "* Save the plotted figures as .pngs."
   ]
  },
  {
   "cell_type": "markdown",
   "metadata": {},
   "source": [
    "## Latitude vs. Temperature Plot"
   ]
  },
  {
   "cell_type": "code",
   "execution_count": 31,
   "metadata": {
    "scrolled": true
   },
   "outputs": [
    {
     "data": {
      "image/png": "[encoded data removed]",
      "text/plain": [
       "<Figure size 432x288 with 1 Axes>"
      ]
     },
     "metadata": {
      "needs_background": "light"
     },
     "output_type": "display_data"
    }
   ],
   "source": [
    "plt.scatter(clean_city_data[\"Lat\"], clean_city_data[\"Max_Temp\"])\n",
    "plt.xlabel(\"Latidude\")\n",
    "plt.ylabel(\"Max Temperatue (F)\")\n",
    "plt.title(\"Latitude vs. Temperature Plot (4/18/21)\")\n",
    "plt.savefig('output_data/lat_vs_temp.png')\n",
    "plt.show()"
   ]
  },
  {
   "cell_type": "markdown",
   "metadata": {},
   "source": [
    "This plot is analyzing the relationship between latitude and max temperature in Fahrenheit"
   ]
  },
  {
   "cell_type": "markdown",
   "metadata": {},
   "source": [
    "## Latitude vs. Humidity Plot"
   ]
  },
  {
   "cell_type": "code",
   "execution_count": 32,
   "metadata": {},
   "outputs": [
    {
     "data": {
      "image/png": "[encoded data removed]",
      "text/plain": [
       "<Figure size 432x288 with 1 Axes>"
      ]
     },
     "metadata": {
      "needs_background": "light"
     },
     "output_type": "display_data"
    }
   ],
   "source": [
    "plt.scatter(clean_city_data[\"Lat\"], clean_city_data[\"Humidity\"])\n",
    "plt.xlabel(\"Latidude\")\n",
    "plt.ylabel(\"Humidity (%)\")\n",
    "plt.title(\"Latitude vs. Humidity (4/18/21)\")\n",
    "plt.savefig('output_data/lat_vs_humdity.png')\n",
    "plt.show()"
   ]
  },
  {
   "cell_type": "markdown",
   "metadata": {},
   "source": [
    "This plot is analyzing the relationship between latitude and percent humidity"
   ]
  },
  {
   "cell_type": "markdown",
   "metadata": {},
   "source": [
    "## Latitude vs. Cloudiness Plot"
   ]
  },
  {
   "cell_type": "code",
   "execution_count": 33,
   "metadata": {},
   "outputs": [
    {
     "data": {
      "image/png": "[encoded data removed]",
      "text/plain": [
       "<Figure size 432x288 with 1 Axes>"
      ]
     },
     "metadata": {
      "needs_background": "light"
     },
     "output_type": "display_data"
    }
   ],
   "source": [
    "plt.scatter(clean_city_data[\"Lat\"], clean_city_data[\"Cloudiness\"])\n",
    "plt.xlabel(\"Latidude\")\n",
    "plt.ylabel(\"Cloudiness (%)\")\n",
    "plt.title(\"Latitude vs. Cloudiness (4/18/21)\")\n",
    "plt.savefig('output_data/lat_vs_cloudiness.png')\n",
    "plt.show()"
   ]
  },
  {
   "cell_type": "markdown",
   "metadata": {},
   "source": [
    "This plot is analyzing the relationship between latitude and percent cloudiness"
   ]
  },
  {
   "cell_type": "markdown",
   "metadata": {},
   "source": [
    "## Latitude vs. Wind Speed Plot"
   ]
  },
  {
   "cell_type": "code",
   "execution_count": 34,
   "metadata": {},
   "outputs": [
    {
     "data": {
      "image/png": "[encoded data removed]",
      "text/plain": [
       "<Figure size 432x288 with 1 Axes>"
      ]
     },
     "metadata": {
      "needs_background": "light"
     },
     "output_type": "display_data"
    }
   ],
   "source": [
    "plt.scatter(clean_city_data[\"Lat\"], clean_city_data[\"Wind_Speed\"])\n",
    "plt.xlabel(\"Latidude\")\n",
    "plt.ylabel(\"Wind Speed (mph)\")\n",
    "plt.title(\"Latitude vs. Wind_Speed (4/18/21)\")\n",
    "plt.savefig('output_data/lat_vs_wind_speed.png')\n",
    "plt.show()"
   ]
  },
  {
   "cell_type": "markdown",
   "metadata": {},
   "source": [
    "This plot is analyzing the relationship between latitude and wind speed in miles per hour"
   ]
  },
  {
   "cell_type": "markdown",
   "metadata": {},
   "source": [
    "## Linear Regression"
   ]
  },
  {
   "cell_type": "code",
   "execution_count": 35,
   "metadata": {},
   "outputs": [],
   "source": [
    "northern_hemisphere = clean_city_data.loc[clean_city_data[\"Lat\"] >= 0]\n",
    "southern_hemisphere = clean_city_data.loc[clean_city_data[\"Lat\"] < 0]\n",
    "northern_hemisphere.to_csv('output_data/northern_hemisphere_data.csv', index = False)\n",
    "southern_hemisphere .to_csv('output_data/southern_hemisphere_data.csv', index = False)"
   ]
  },
  {
   "cell_type": "markdown",
   "metadata": {},
   "source": [
    "####  Northern Hemisphere - Max Temp vs. Latitude Linear Regression"
   ]
  },
  {
   "cell_type": "code",
   "execution_count": 36,
   "metadata": {},
   "outputs": [
    {
     "data": {
      "image/png": "[encoded data removed]",
      "text/plain": [
       "<Figure size 432x288 with 1 Axes>"
      ]
     },
     "metadata": {
      "needs_background": "light"
     },
     "output_type": "display_data"
    },
    {
     "name": "stdout",
     "output_type": "stream",
     "text": [
      "r =-0.8707044840559399\n"
     ]
    }
   ],
   "source": [
    "(slope, intercept, rvaluem, pvalue, stderr) = st.linregress(northern_hemisphere[\"Lat\"], northern_hemisphere[\"Max_Temp\"])\n",
    "regress_values = (northern_hemisphere[\"Lat\"] * slope) + intercept\n",
    "plt.plot(northern_hemisphere[\"Lat\"], regress_values, color = \"r\")\n",
    "plt.scatter(northern_hemisphere[\"Lat\"], northern_hemisphere[\"Max_Temp\"])\n",
    "plt.xlabel(\"Latidude\")\n",
    "plt.ylabel(\"Max Temperatue (F)\")\n",
    "plt.title(\" Northern Hemisphere Latitude vs. Temperature Plot (4/18/21)\")\n",
    "plt.savefig('output_data/northern_lat_vs_temp.png')\n",
    "plt.show()\n",
    "corcoefficient = st.pearsonr(northern_hemisphere[\"Lat\"], northern_hemisphere[\"Max_Temp\"])\n",
    "print(f\"r ={corcoefficient[0]}\")"
   ]
  },
  {
   "cell_type": "markdown",
   "metadata": {},
   "source": [
    "####  Southern Hemisphere - Max Temp vs. Latitude Linear Regression"
   ]
  },
  {
   "cell_type": "code",
   "execution_count": 37,
   "metadata": {},
   "outputs": [
    {
     "data": {
      "image/png": "[encoded data removed]",
      "text/plain": [
       "<Figure size 432x288 with 1 Axes>"
      ]
     },
     "metadata": {
      "needs_background": "light"
     },
     "output_type": "display_data"
    },
    {
     "name": "stdout",
     "output_type": "stream",
     "text": [
      "r =0.642420984750665\n"
     ]
    }
   ],
   "source": [
    "(slope, intercept, rvaluem, pvalue, stderr) = st.linregress(southern_hemisphere[\"Lat\"], southern_hemisphere[\"Max_Temp\"])\n",
    "regress_values = (southern_hemisphere[\"Lat\"] * slope) + intercept\n",
    "plt.plot(southern_hemisphere[\"Lat\"], regress_values, color = \"r\")\n",
    "plt.scatter(southern_hemisphere[\"Lat\"], southern_hemisphere[\"Max_Temp\"])\n",
    "plt.xlabel(\"Latidude\")\n",
    "plt.ylabel(\"Max Temperatue (F)\")\n",
    "plt.title(\"Southern Hemisphere Latitude vs. Temperature Plot (4/18/21)\")\n",
    "plt.savefig('output_data/southern_lat_vs_temp.png')\n",
    "plt.show()\n",
    "corcoefficient = st.pearsonr(southern_hemisphere[\"Lat\"], southern_hemisphere[\"Max_Temp\"])\n",
    "print(f\"r ={corcoefficient[0]}\")"
   ]
  },
  {
   "cell_type": "markdown",
   "metadata": {},
   "source": [
    "There appears to be a relationship between the Max temperature and the latitude for each hemisphere. Max Temperature appears to be higher closer to the equater (0 Latitude). "
   ]
  },
  {
   "cell_type": "markdown",
   "metadata": {},
   "source": [
    "####  Northern Hemisphere - Humidity (%) vs. Latitude Linear Regression"
   ]
  },
  {
   "cell_type": "code",
   "execution_count": 38,
   "metadata": {},
   "outputs": [
    {
     "data": {
      "image/png": "[encoded data removed]",
      "text/plain": [
       "<Figure size 432x288 with 1 Axes>"
      ]
     },
     "metadata": {
      "needs_background": "light"
     },
     "output_type": "display_data"
    },
    {
     "name": "stdout",
     "output_type": "stream",
     "text": [
      "r =0.1366040280404588\n"
     ]
    }
   ],
   "source": [
    "(slope, intercept, rvaluem, pvalue, stderr) = st.linregress(northern_hemisphere[\"Lat\"], northern_hemisphere[\"Humidity\"])\n",
    "regress_values = (northern_hemisphere[\"Lat\"] * slope) + intercept\n",
    "plt.plot(northern_hemisphere[\"Lat\"], regress_values, color = \"r\")\n",
    "plt.scatter(northern_hemisphere[\"Lat\"], northern_hemisphere[\"Humidity\"])\n",
    "plt.xlabel(\"Latidude\")\n",
    "plt.ylabel(\"Humidity (%)\")\n",
    "plt.title(\"Northern Hemisphere Latitude vs. Humidity Plot (4/18/21)\")\n",
    "plt.savefig('output_data/northern_lat_vs_humidity.png')\n",
    "plt.show()\n",
    "corcoefficient = st.pearsonr(northern_hemisphere[\"Lat\"], northern_hemisphere[\"Humidity\"])\n",
    "print(f\"r ={corcoefficient[0]}\")"
   ]
  },
  {
   "cell_type": "markdown",
   "metadata": {},
   "source": [
    "####  Southern Hemisphere - Humidity (%) vs. Latitude Linear Regression"
   ]
  },
  {
   "cell_type": "code",
   "execution_count": 39,
   "metadata": {},
   "outputs": [
    {
     "data": {
      "image/png": "[encoded data removed]",
      "text/plain": [
       "<Figure size 432x288 with 1 Axes>"
      ]
     },
     "metadata": {
      "needs_background": "light"
     },
     "output_type": "display_data"
    },
    {
     "name": "stdout",
     "output_type": "stream",
     "text": [
      "r =0.12512804081717996\n"
     ]
    }
   ],
   "source": [
    "(slope, intercept, rvaluem, pvalue, stderr) = st.linregress(southern_hemisphere[\"Lat\"], southern_hemisphere[\"Humidity\"])\n",
    "regress_values = (southern_hemisphere[\"Lat\"] * slope) + intercept\n",
    "plt.plot(southern_hemisphere[\"Lat\"], regress_values, color = \"r\")\n",
    "plt.scatter(southern_hemisphere[\"Lat\"], southern_hemisphere[\"Humidity\"])\n",
    "plt.xlabel(\"Latidude\")\n",
    "plt.ylabel(\"Humidity (%)\")\n",
    "plt.title(\"Southern Hemisphere Latitude vs. Humidity Plot (4/18/21)\")\n",
    "plt.savefig('output_data/southern_lat_vs_humidity.png')\n",
    "plt.show()\n",
    "corcoefficient = st.pearsonr(southern_hemisphere[\"Lat\"], southern_hemisphere[\"Humidity\"])\n",
    "print(f\"r ={corcoefficient[0]}\")"
   ]
  },
  {
   "cell_type": "markdown",
   "metadata": {},
   "source": [
    "There appears to be two different weak relationships for latitude and Humidty. In the northern hemisphere Humidty slightly increases as you get farther from the equator. In the southern hemisphere Humidty appears to slightly increase as you get closer to the equator."
   ]
  },
  {
   "cell_type": "markdown",
   "metadata": {},
   "source": [
    "####  Northern Hemisphere - Cloudiness (%) vs. Latitude Linear Regression"
   ]
  },
  {
   "cell_type": "code",
   "execution_count": 40,
   "metadata": {},
   "outputs": [
    {
     "data": {
      "image/png": "[encoded data removed]",
      "text/plain": [
       "<Figure size 432x288 with 1 Axes>"
      ]
     },
     "metadata": {
      "needs_background": "light"
     },
     "output_type": "display_data"
    },
    {
     "name": "stdout",
     "output_type": "stream",
     "text": [
      "r =0.060153404526825716\n"
     ]
    }
   ],
   "source": [
    "(slope, intercept, rvaluem, pvalue, stderr) = st.linregress(northern_hemisphere[\"Lat\"], northern_hemisphere[\"Cloudiness\"])\n",
    "regress_values = (northern_hemisphere[\"Lat\"] * slope) + intercept\n",
    "plt.plot(northern_hemisphere[\"Lat\"], regress_values, color = \"r\")\n",
    "plt.scatter(northern_hemisphere[\"Lat\"], northern_hemisphere[\"Cloudiness\"])\n",
    "plt.xlabel(\"Latidude\")\n",
    "plt.ylabel(\"Cloudiness (%)\")\n",
    "plt.title(\"Northern Hemisphere Latitude vs. Cloudiness Plot (4/18/21)\")\n",
    "plt.savefig('output_data/northern_lat_vs_cloudiness.png')\n",
    "plt.show()\n",
    "corcoefficient = st.pearsonr(northern_hemisphere[\"Lat\"], northern_hemisphere[\"Cloudiness\"])\n",
    "print(f\"r ={corcoefficient[0]}\")"
   ]
  },
  {
   "cell_type": "markdown",
   "metadata": {},
   "source": [
    "####  Southern Hemisphere - Cloudiness (%) vs. Latitude Linear Regression"
   ]
  },
  {
   "cell_type": "code",
   "execution_count": 41,
   "metadata": {},
   "outputs": [
    {
     "data": {
      "image/png": "[encoded data removed]",
      "text/plain": [
       "<Figure size 432x288 with 1 Axes>"
      ]
     },
     "metadata": {
      "needs_background": "light"
     },
     "output_type": "display_data"
    },
    {
     "name": "stdout",
     "output_type": "stream",
     "text": [
      "r =0.3001919697526084\n"
     ]
    }
   ],
   "source": [
    "(slope, intercept, rvaluem, pvalue, stderr) = st.linregress(southern_hemisphere[\"Lat\"], southern_hemisphere[\"Cloudiness\"])\n",
    "regress_values = (southern_hemisphere[\"Lat\"] * slope) + intercept\n",
    "plt.plot(southern_hemisphere[\"Lat\"], regress_values, color = \"r\")\n",
    "plt.scatter(southern_hemisphere[\"Lat\"], southern_hemisphere[\"Cloudiness\"])\n",
    "plt.xlabel(\"Latidude\")\n",
    "plt.ylabel(\"Cloudiness (%)\")\n",
    "plt.title(\"Southern Hemisphere Latitude vs. Cloudiness Plot(4/18/21)\")\n",
    "plt.savefig('output_data/southern_lat_vs_cloudiness.png')\n",
    "plt.show()\n",
    "corcoefficient = st.pearsonr(southern_hemisphere[\"Lat\"], southern_hemisphere[\"Cloudiness\"])\n",
    "print(f\"r ={corcoefficient[0]}\")"
   ]
  },
  {
   "cell_type": "markdown",
   "metadata": {},
   "source": [
    "There appears to be a relationship between the Cloudiness and the latitude for each hemisphere. Cloudiness appears to be higher closer to the equater (0 Latitude). The relationship appears to be stronger in the southern hemisphere"
   ]
  },
  {
   "cell_type": "markdown",
   "metadata": {},
   "source": [
    "####  Northern Hemisphere - Wind Speed (mph) vs. Latitude Linear Regression"
   ]
  },
  {
   "cell_type": "code",
   "execution_count": 42,
   "metadata": {},
   "outputs": [
    {
     "data": {
      "image/png": "[encoded data removed]",
      "text/plain": [
       "<Figure size 432x288 with 1 Axes>"
      ]
     },
     "metadata": {
      "needs_background": "light"
     },
     "output_type": "display_data"
    },
    {
     "name": "stdout",
     "output_type": "stream",
     "text": [
      "r =0.15930895491450509\n"
     ]
    }
   ],
   "source": [
    "(slope, intercept, rvaluem, pvalue, stderr) = st.linregress(northern_hemisphere[\"Lat\"], northern_hemisphere[\"Wind_Speed\"])\n",
    "regress_values = (northern_hemisphere[\"Lat\"] * slope) + intercept\n",
    "plt.plot(northern_hemisphere[\"Lat\"], regress_values, color = \"r\")\n",
    "plt.scatter(northern_hemisphere[\"Lat\"], northern_hemisphere[\"Wind_Speed\"])\n",
    "plt.xlabel(\"Latidude\")\n",
    "plt.ylabel(\"Wind Speed (mph)\")\n",
    "plt.title(\"Northern Hemisphere Latitude vs. Wind_Speed Plot (4/18/21)\")\n",
    "plt.savefig('output_data/northern_lat_vs_wind_speed.png')\n",
    "plt.show()\n",
    "corcoefficient = st.pearsonr(northern_hemisphere[\"Lat\"], northern_hemisphere[\"Wind_Speed\"])\n",
    "print(f\"r ={corcoefficient[0]}\")"
   ]
  },
  {
   "cell_type": "markdown",
   "metadata": {},
   "source": [
    "####  Southern Hemisphere - Wind Speed (mph) vs. Latitude Linear Regression"
   ]
  },
  {
   "cell_type": "code",
   "execution_count": 43,
   "metadata": {},
   "outputs": [
    {
     "data": {
      "image/png": "[encoded data removed]",
      "text/plain": [
       "<Figure size 432x288 with 1 Axes>"
      ]
     },
     "metadata": {
      "needs_background": "light"
     },
     "output_type": "display_data"
    },
    {
     "name": "stdout",
     "output_type": "stream",
     "text": [
      "r =-0.2762732098271447\n"
     ]
    }
   ],
   "source": [
    "(slope, intercept, rvaluem, pvalue, stderr) = st.linregress(southern_hemisphere[\"Lat\"], southern_hemisphere[\"Wind_Speed\"])\n",
    "regress_values = (southern_hemisphere[\"Lat\"] * slope) + intercept\n",
    "plt.plot(southern_hemisphere[\"Lat\"], regress_values, color = \"r\")\n",
    "plt.scatter(southern_hemisphere[\"Lat\"], southern_hemisphere[\"Wind_Speed\"])\n",
    "plt.xlabel(\"Latidude\")\n",
    "plt.ylabel(\"Wind Speed (mph)\")\n",
    "plt.title(\"Southern Hemisphere Latitude vs. Wind_Speed Plot (4/18/21)\")\n",
    "plt.savefig('output_data/southern_lat_vs_wind_speed.png')\n",
    "plt.show()\n",
    "corcoefficient = st.pearsonr(southern_hemisphere[\"Lat\"], southern_hemisphere[\"Wind_Speed\"])\n",
    "print(f\"r ={corcoefficient[0]}\")"
   ]
  },
  {
   "cell_type": "markdown",
   "metadata": {},
   "source": [
    "There appears to be a relationship between the Winspeed and the latitude for each hemisphere. Windspeed appears to be lower closer to the equater (0 Latitude). The relationship appears to be stronger in the southern hemisphere"
   ]
  },
  {
   "cell_type": "code",
   "execution_count": null,
   "metadata": {},
   "outputs": [],
   "source": []
  }
 ],
 "metadata": {
  "anaconda-cloud": {},
  "kernel_info": {
   "name": "python3"
  },
  "kernelspec": {
   "display_name": "Python 3",
   "language": "python",
   "name": "python3"
  },
  "language_info": {
   "codemirror_mode": {
    "name": "ipython",
    "version": 3
   },
   "file_extension": ".py",
   "mimetype": "text/x-python",
   "name": "python",
   "nbconvert_exporter": "python",
   "pygments_lexer": "ipython3",
   "version": "3.8.5"
  },
  "latex_envs": {
   "LaTeX_envs_menu_present": true,
   "autoclose": false,
   "autocomplete": true,
   "bibliofile": "biblio.bib",
   "cite_by": "apalike",
   "current_citInitial": 1,
   "eqLabelWithNumbers": true,
   "eqNumInitial": 1,
   "hotkeys": {
    "equation": "Ctrl-E",
    "itemize": "Ctrl-I"
   },
   "labels_anchors": false,
   "latex_user_defs": false,
   "report_style_numbering": false,
   "user_envs_cfg": false
  },
  "nteract": {
   "version": "0.12.3"
  }
 },
 "nbformat": 4,
 "nbformat_minor": 2
}
