{
 "cells": [
  {
   "cell_type": "markdown",
   "metadata": {},
   "source": [
    "# WeatherPy\n",
    "----\n",
    "\n",
    "#### Note\n",
    "* Instructions have been included for each segment. You do not have to follow them exactly, but they are included to help you think through the steps."
   ]
  },
  {
   "cell_type": "code",
   "execution_count": 21,
   "metadata": {
    "scrolled": true
   },
   "outputs": [],
   "source": [
    "# Dependencies and Setup\n",
    "import matplotlib.pyplot as plt\n",
    "import pandas as pd\n",
    "import numpy as np\n",
    "import requests\n",
    "import time\n",
    "import json\n",
    "import scipy.stats as st\n",
    "\n",
    "# Import API key\n",
    "from api_keys import weather_api_key\n",
    "\n",
    "# Incorporated citipy to determine city based on latitude and longitude\n",
    "from citipy import citipy\n",
    "\n",
    "# Output File (CSV)\n",
    "output_data_file = \"output_data/cities.csv\"\n",
    "\n",
    "# Range of latitudes and longitudes\n",
    "lat_range = (-90, 90)\n",
    "lng_range = (-180, 180)"
   ]
  },
  {
   "cell_type": "markdown",
   "metadata": {},
   "source": [
    "## Generate Cities List"
   ]
  },
  {
   "cell_type": "code",
   "execution_count": 2,
   "metadata": {},
   "outputs": [
    {
     "name": "stdout",
     "output_type": "stream",
     "text": [
      "603\n",
      "['kosai', 'clyde river', 'ouadda', 'lebu', 'gora kalwaria', 'kaitangata', 'khatanga', 'coquimbo', 'luena', 'juneau', 'cape town', 'mys shmidta', 'burnie', 'dabwali', 'half moon bay', 'puerto ayora', 'cidreira', 'grindavik', 'vienna', 'mangai', 'tuktoyaktuk', 'severo-kurilsk', 'albany', 'amderma', 'tasiilaq', 'lorengau', 'faya', 'huilong', 'kez', 'atuona', 'carnarvon', 'quatre cocos', 'grand centre', 'marcona', 'bluff', 'samusu', 'torbay', 'bethel', 'riyadh', 'arvika', 'hermanus', 'buraydah', 'rikitea', 'papetoai', 'airai', 'barrow', 'marawi', 'ponta do sol', 'kisanga', 'new norfolk', 'vaini', 'ushuaia', 'bredasdorp', 'kapaa', 'villanueva de la serena', 'punta arenas', 'wahiawa', 'bambous virieux', 'qaanaaq', 'samarai', 'port elizabeth', 'ribeira grande', 'ilulissat', 'andenes', 'araouane', 'mount gambier', 'nizhniy baskunchak', 'nome', 'calabozo', 'hilo', 'east london', 'a coruna', 'butaritari', 'mataura', 'pokhara', 'mount isa', 'yellowknife', 'karratha', 'nizhneyansk', 'plettenberg bay', 'touros', 'lakatoro', 'antofagasta', 'busselton', 'north bend', 'vaitupu', 'victoria', 'casteltermini', 'estevan', 'upernavik', 'dikson', 'saquarema', 'awjilah', 'coihaique', 'el sauzal', 'arraial do cabo', 'avarua', 'ust-kuyga', 'goderich', 'fare', 'skalistyy', 'cervo', 'kazuno', 'chokurdakh', 'zwedru', 'illoqqortoormiut', 'sao filipe', 'maniitsoq', 'kazerun', 'huarmey', 'nanortalik', 'margate', 'pisco', 'andevoranto', 'barcelos', 'bathsheba', 'longyearbyen', 'saint george', 'clarence town', 'kodiak', 'hovd', 'cabo san lucas', 'tiksi', 'thanh hoa', 'balkhash', 'jalu', 'hobart', 'mahebourg', 'nikolskoye', 'katsuura', 'hobyo', 'iqaluit', 'impfondo', 'odugathur', 'stornoway', 'chuy', 'hambantota', 'tsihombe', 'elko', 'kasongo', 'fairbanks', 'changtu', 'safwah', 'loreto', 'chengmai', 'isangel', 'sitka', 'kulhudhuffushi', 'marrakesh', 'attawapiskat', 'chicama', 'oranjemund', 'bandundu', 'amga', 'rio negro', 'dicabisagan', 'ust-barguzin', 'colac', 'bacuit', 'aquiraz', 'ahipara', 'hami', 'salalah', 'tuatapere', 'codrington', 'sechura', 'dharchula', 'corn island', 'kahului', 'mentok', 'lagoa', 'belushya guba', 'olkhovka', 'saldanha', 'saint-philippe', 'charters towers', 'mehamn', 'alofi', 'san patricio', 'saint-pierre', 'usinsk', 'kemise', 'henties bay', 'port alfred', 'caravelas', 'taolanaro', 'barhi', 'celestun', 'esperance', 'umea', 'bengkulu', 'teguldet', 'souillac', 'pevek', 'nexo', 'provideniya', 'nioro', 'portland', 'hasaki', 'atlantic city', 'bayangol', 'dingle', 'gazojak', 'sinnamary', 'hofn', 'matagami', 'ituni', 'mar del plata', 'cairo montenotte', 'mabaruma', 'ilhabela', 'boda', 'keti bandar', 'campbell river', 'bauchi', 'suntar', 'vardo', 'juba', 'meppen', 'itarema', 'kilifi', 'sao joao da barra', 'payo', 'omboue', 'haapiti', 'kangasala', 'cabinda', 'kozmodemyansk', 'gamba', 'grand river south east', 'tubuala', 'batemans bay', 'richards bay', 'mahajanga', 'along', 'muroto', 'salinopolis', 'norman wells', 'port hardy', 'chauk', 'baykit', 'soyo', 'ambilobe', 'grand gaube', 'yumen', 'ostashkov', 'valparaiso', 'fujin', 'leningradskiy', 'fortuna', 'klaksvik', 'poum', 'cherskiy', 'luderitz', 'olafsvik', 'lundazi', 'alice springs', 'malwan', 'leshan', 'san cristobal', 'verkhoyansk', 'arlit', 'parfino', 'crateus', 'bo phloi', 'gizo', 'hithadhoo', 'vogan', 'evensk', 'nemuro', 'puerto ayacucho', 'mnogovershinnyy', 'gat', 'taunsa', 'concordia', 'kibala', 'jamestown', 'poopo', 'lavrentiya', 'geraldton', 'bull savanna', 'chagda', 'maragogi', 'ambon', 'sobolevo', 'westport', 'mexico', 'cranbrook', 'sicamous', 'bilibino', 'canmore', 'hay river', 'port blair', 'pringsewu', 'santa rosa', 'gusau', 'ballina', 'proletarsk', 'vila', 'thompson', 'katobu', 'yulara', 'sataua', 'guerrero negro', 'nyimba', 'saskylakh', 'barentsburg', 'georgetown', 'sovetskaya gavan', 'disna', 'shimoda', 'tulare', 'anuchino', 'yatou', 'kavieng', 'baherden', 'vila franca do campo', 'saint-louis', 'kirakira', 'yar-sale', 'nileshwar', 'russell', 'cascais', 'abha', 'kulunda', 'jaguaruna', 'yomitan', 'krasnoselkup', 'constitucion', 'mumford', 'buchanan', 'bantry', 'peniche', 'berdsk', 'mazara del vallo', 'yate', 'flin flon', 'shingu', 'breyten', 'mayo', 'vao', 'komsomolskiy', 'tacna', 'sembakung', 'saint anthony', 'kavaratti', 'narsaq', 'novyy urengoy', 'lasa', 'castro', 'quballat', 'tumannyy', 'kandrian', 'acarau', 'fomboni', 'lidkoping', 'jabiru', 'havre-saint-pierre', 'sur', 'paola', 'charlestown', 'sioux lookout', 'antsohihy', 'williston', 'campoverde', 'aykhal', 'tabou', 'zhaocheng', 'sumbawa', 'madera', 'hudiksvall', 'vestmannaeyjar', 'dhidhdhoo', 'novobirilyussy', 'kannur', 'nago', 'rock sound', 'togul', 'helong', 'sovetskiy', 'bela cruz', 'miri', 'lagos', 'brae', 'khani', 'shihezi', 'maumere', 'daxian', 'talnakh', 'amapa', 'sorland', 'buzoesti', 'port moresby', 'aitape', 'zykovo', 'manokwari', 'ancud', 'dzhusaly', 'nombre de dios', 'minna', 'takoradi', 'letpadan', 'los llanos de aridane', 'marzuq', 'falmouth', 'haibowan', 'nioaque', 'moose factory', 'kieta', 'sentyabrskiy', 'aswan', 'aguas vermelhas', 'jiuquan', 'goure', 'pemangkat', 'ozgon', 'yabelo', 'batagay-alyta', 'tawkar', 'adre', 'tazovskiy', 'angoche', 'wajima', 'ndjole', 'inuvik', 'contamana', 'santa fe', 'palabuhanratu', 'barbar', 'lingao', 'ixtapa', 'jaguey grande', 'patos', 'kushiro', 'bida', 'ko samui', 'obernkirchen', 'teknaf', 'talara', 'ostrovnoy', 'hualmay', 'hatillo', 'ocean city', 'nuuk', 'berlevag', 'nantucket', 'kutum', 'wenling', 'kaita', 'ingham', 'orapa', 'bonavista', 'karcag', 'tommot', 'pakxan', 'ayni', 'guaiuba', 'asau', 'necochea', 'vagur', 'mananara', 'bouna', 'road town', 'jodiya', 'rorvik', 'port hedland', 'rajanpur', 'umm kaddadah', 'kyaukse', 'vilhena', 'gogrial', 'hargeysa', 'cayenne', 'doha', 'shwebo', 'eravur', 'linhares', 'bubaque', 'dali', 'pasni', 'san vicente de canete', 'mandera', 'tessalit', 'bambui', 'namibe', 'burica', 'aklavik', 'surin', 'sao felix do xingu', 'vila velha', 'noyabrsk', 'tatawin', 'tura', 'paidha', 'port lincoln', 'ucluelet', 'zabol', 'zhanaozen', 'sorvag', 'veraval', 'penzance', 'qui nhon', 'altay', 'nanakuli', 'urumqi', 'belyy yar', 'pouembout', 'caceres', 'iguape', 'padang', 'kibre mengist', 'trelew', 'yaan', 'mushie', 'rassvet', 'bar harbor', 'tahe', 'chernyshevskiy', 'suao', 'kirovskiy', 'conde', 'yirol', 'shiyan', 'faanui', 'lagos de moreno', 'dong hoi', 'lompoc', 'beira', 'astana', 'middelburg', 'gannan', 'tirano', 'kawana waters', 'munkebo', 'tingrela', 'tabiauea', 'birjand', 'nyurba', 'deputatskiy', 'isiro', 'porto belo', 'yingcheng', 'lata', 'taoudenni', 'vanimo', 'grand-santi', 'jumla', 'bonthe', 'kununurra', 'remanso', 'gornyak', 'lubyany', 'bilma', 'sao miguel do oeste', 'maloshuyka', 'fortuna foothills', 'golden', 'terrace bay', 'manuk mangkaw', 'gijon', 'carroll', 'havoysund', 'tiarei', 'mullaitivu', 'waingapu', 'la gaulette', 'ugoofaaru', 'tomatlan', 'sambava', 'ensenada', 'biak', 'petropavlovsk-kamchatskiy', 'fiumicino', 'viedma', 'trinidad', 'dezhou', 'timra', 'bandarbeyla', 'alpena', 'kharp', 'mandapam', 'oppdal', 'bambanglipuro', 'kamenskoye', 'mathbaria', 'esmeraldas', 'sanger', 'fukue', 'stoyba', 'tooele', 'phetchabun', 'amuntai', 'berdigestyakh', 'progreso', 'chapada dos guimaraes', 'pascagoula', 'kaspiysk', 'bata', 'harper', 'kidal', 'diego de almagro', 'samarinda', 'zachagansk']\n"
     ]
    }
   ],
   "source": [
    "# List for holding lat_lngs and cities\n",
    "lat_lngs = []\n",
    "cities = []\n",
    "\n",
    "# Create a set of random lat and lng combinations\n",
    "lats = np.random.uniform(lat_range[0], lat_range[1], size=1500)\n",
    "lngs = np.random.uniform(lng_range[0], lng_range[1], size=1500)\n",
    "lat_lngs = zip(lats, lngs)\n",
    "\n",
    "# Identify nearest city for each lat, lng combination\n",
    "for lat_lng in lat_lngs:\n",
    "    city = citipy.nearest_city(lat_lng[0], lat_lng[1]).city_name\n",
    "    \n",
    "    # If the city is unique, then add it to a our cities list\n",
    "    if city not in cities:\n",
    "        cities.append(city)\n",
    "\n",
    "# Print the city count to confirm sufficient count\n",
    "print(len(cities))\n",
    "print(cities)"
   ]
  },
  {
   "cell_type": "code",
   "execution_count": null,
   "metadata": {},
   "outputs": [],
   "source": [
    "url = f\"https://api.openweathermap.org/data/2.5/weather?q=khatanga&appid={weather_api_key}\"\n",
    "response = requests.get(url).json()\n",
    "print(json.dumps(response, indent=4, sort_keys=True))"
   ]
  },
  {
   "cell_type": "code",
   "execution_count": null,
   "metadata": {},
   "outputs": [],
   "source": [
    "response[\"dt\"]"
   ]
  },
  {
   "cell_type": "markdown",
   "metadata": {},
   "source": [
    "### Perform API Calls\n",
    "* Perform a weather check on each city using a series of successive API calls.\n",
    "* Include a print log of each city as it'sbeing processed (with the city number and city name).\n"
   ]
  },
  {
   "cell_type": "code",
   "execution_count": 3,
   "metadata": {
    "scrolled": true
   },
   "outputs": [
    {
     "name": "stdout",
     "output_type": "stream",
     "text": [
      "603\n",
      "Processing Record 1 of Set 1 | kosai\n",
      "Processing Record 2 of Set 1 | clyde river\n",
      "Processing Record 3 of Set 1 | ouadda\n",
      "Processing Record 4 of Set 1 | lebu\n",
      "Processing Record 5 of Set 1 | gora kalwaria\n",
      "Processing Record 6 of Set 1 | kaitangata\n",
      "Processing Record 7 of Set 1 | khatanga\n",
      "Processing Record 8 of Set 1 | coquimbo\n",
      "Processing Record 9 of Set 1 | luena\n",
      "Processing Record 10 of Set 1 | juneau\n",
      "Processing Record 11 of Set 1 | cape town\n",
      "mys shmidta not found\n",
      "Processing Record 12 of Set 1 | dabwali\n",
      "Processing Record 13 of Set 1 | half moon bay\n",
      "Processing Record 14 of Set 1 | puerto ayora\n",
      "Processing Record 15 of Set 1 | cidreira\n",
      "Processing Record 16 of Set 1 | grindavik\n",
      "Processing Record 17 of Set 1 | vienna\n",
      "Processing Record 18 of Set 1 | mangai\n",
      "Processing Record 19 of Set 1 | tuktoyaktuk\n",
      "Processing Record 20 of Set 1 | severo-kurilsk\n",
      "Processing Record 21 of Set 1 | albany\n",
      "amderma not found\n",
      "Processing Record 22 of Set 1 | lorengau\n",
      "Processing Record 23 of Set 1 | faya\n",
      "Processing Record 24 of Set 1 | huilong\n",
      "Processing Record 25 of Set 1 | kez\n",
      "Processing Record 26 of Set 1 | atuona\n",
      "Processing Record 27 of Set 1 | carnarvon\n",
      "Processing Record 28 of Set 1 | quatre cocos\n",
      "grand centre not found\n",
      "Processing Record 29 of Set 1 | bluff\n",
      "samusu not found\n",
      "Processing Record 30 of Set 1 | bethel\n",
      "Processing Record 31 of Set 1 | riyadh\n",
      "Processing Record 32 of Set 1 | arvika\n",
      "Processing Record 33 of Set 1 | hermanus\n",
      "Processing Record 34 of Set 1 | buraydah\n",
      "Processing Record 35 of Set 1 | rikitea\n",
      "Processing Record 36 of Set 1 | papetoai\n",
      "Processing Record 37 of Set 1 | airai\n",
      "Processing Record 38 of Set 1 | barrow\n",
      "Processing Record 39 of Set 1 | marawi\n",
      "Processing Record 40 of Set 1 | ponta do sol\n",
      "Processing Record 41 of Set 1 | kisanga\n",
      "Processing Record 42 of Set 1 | new norfolk\n",
      "Processing Record 43 of Set 1 | vaini\n",
      "Processing Record 44 of Set 1 | ushuaia\n",
      "Processing Record 45 of Set 1 | bredasdorp\n",
      "Processing Record 46 of Set 1 | kapaa\n",
      "Processing Record 47 of Set 1 | villanueva de la serena\n",
      "Processing Record 48 of Set 1 | punta arenas\n",
      "Processing Record 49 of Set 1 | wahiawa\n",
      "Processing Record 50 of Set 1 | bambous virieux\n",
      "Processing Record 51 of Set 1 | qaanaaq\n",
      "Processing Record 52 of Set 1 | samarai\n",
      "Processing Record 53 of Set 1 | port elizabeth\n",
      "Processing Record 54 of Set 1 | ribeira grande\n",
      "Processing Record 55 of Set 1 | ilulissat\n",
      "Processing Record 56 of Set 1 | andenes\n",
      "Processing Record 57 of Set 1 | araouane\n",
      "Processing Record 58 of Set 1 | mount gambier\n",
      "Processing Record 59 of Set 1 | nizhniy baskunchak\n",
      "Processing Record 60 of Set 1 | nome\n",
      "Processing Record 61 of Set 1 | calabozo\n",
      "Processing Record 62 of Set 1 | hilo\n",
      "Processing Record 63 of Set 1 | east london\n",
      "Processing Record 64 of Set 1 | a coruna\n",
      "Processing Record 65 of Set 1 | butaritari\n",
      "Processing Record 66 of Set 1 | mataura\n",
      "Processing Record 67 of Set 1 | pokhara\n",
      "Processing Record 68 of Set 1 | mount isa\n",
      "Processing Record 69 of Set 1 | yellowknife\n",
      "Processing Record 70 of Set 1 | karratha\n",
      "nizhneyansk not found\n",
      "Processing Record 71 of Set 1 | touros\n",
      "Processing Record 72 of Set 1 | lakatoro\n",
      "Processing Record 73 of Set 1 | antofagasta\n",
      "Processing Record 74 of Set 1 | busselton\n",
      "Processing Record 75 of Set 1 | north bend\n",
      "vaitupu not found\n",
      "Processing Record 76 of Set 1 | casteltermini\n",
      "Processing Record 77 of Set 1 | estevan\n",
      "Processing Record 78 of Set 1 | upernavik\n",
      "Processing Record 79 of Set 1 | dikson\n",
      "Processing Record 80 of Set 1 | saquarema\n",
      "Processing Record 81 of Set 1 | awjilah\n",
      "Processing Record 82 of Set 1 | coihaique\n",
      "Processing Record 83 of Set 1 | el sauzal\n",
      "Processing Record 84 of Set 1 | arraial do cabo\n",
      "Processing Record 85 of Set 1 | avarua\n",
      "Processing Record 86 of Set 1 | ust-kuyga\n",
      "Processing Record 87 of Set 1 | goderich\n",
      "Processing Record 88 of Set 1 | fare\n",
      "skalistyy not found\n",
      "Processing Record 89 of Set 1 | kazuno\n",
      "Processing Record 90 of Set 1 | chokurdakh\n",
      "Processing Record 91 of Set 1 | zwedru\n",
      "illoqqortoormiut not found\n",
      "Processing Record 92 of Set 1 | maniitsoq\n",
      "Processing Record 93 of Set 1 | kazerun\n",
      "Processing Record 94 of Set 1 | huarmey\n",
      "Processing Record 95 of Set 1 | nanortalik\n",
      "Processing Record 96 of Set 1 | margate\n",
      "Processing Record 97 of Set 1 | pisco\n",
      "andevoranto not found\n",
      "Processing Record 98 of Set 1 | bathsheba\n",
      "Processing Record 99 of Set 1 | longyearbyen\n",
      "Processing Record 100 of Set 1 | saint george\n",
      "Processing Record 101 of Set 1 | clarence town\n",
      "Processing Record 102 of Set 1 | kodiak\n",
      "Processing Record 103 of Set 1 | hovd\n",
      "Processing Record 104 of Set 1 | cabo san lucas\n",
      "Processing Record 105 of Set 1 | tiksi\n",
      "Processing Record 106 of Set 1 | thanh hoa\n",
      "Processing Record 107 of Set 1 | balkhash\n",
      "Processing Record 108 of Set 1 | jalu\n",
      "Processing Record 109 of Set 1 | hobart\n",
      "Processing Record 110 of Set 1 | mahebourg\n",
      "Processing Record 111 of Set 1 | nikolskoye\n",
      "Processing Record 112 of Set 1 | katsuura\n",
      "Processing Record 113 of Set 1 | hobyo\n",
      "Processing Record 114 of Set 1 | iqaluit\n",
      "Processing Record 115 of Set 1 | impfondo\n",
      "odugathur not found\n",
      "Processing Record 116 of Set 1 | chuy\n",
      "Processing Record 117 of Set 1 | hambantota\n",
      "tsihombe not found\n",
      "Processing Record 118 of Set 1 | kasongo\n",
      "Processing Record 119 of Set 1 | fairbanks\n",
      "Processing Record 120 of Set 1 | changtu\n",
      "safwah not found\n",
      "chengmai not found\n",
      "Processing Record 121 of Set 1 | sitka\n",
      "Processing Record 122 of Set 1 | kulhudhuffushi\n",
      "Processing Record 123 of Set 1 | marrakesh\n",
      "attawapiskat not found\n",
      "Processing Record 124 of Set 1 | oranjemund\n",
      "Processing Record 125 of Set 1 | bandundu\n",
      "Processing Record 126 of Set 1 | amga\n",
      "Processing Record 127 of Set 1 | rio negro\n",
      "Processing Record 128 of Set 1 | dicabisagan\n",
      "Processing Record 129 of Set 1 | ust-barguzin\n",
      "Processing Record 130 of Set 1 | colac\n",
      "bacuit not found\n",
      "Processing Record 131 of Set 1 | ahipara\n",
      "Processing Record 132 of Set 1 | hami\n",
      "Processing Record 133 of Set 1 | salalah\n",
      "Processing Record 134 of Set 1 | tuatapere\n",
      "Processing Record 135 of Set 1 | codrington\n",
      "Processing Record 136 of Set 1 | sechura\n",
      "Processing Record 137 of Set 1 | dharchula\n",
      "Processing Record 138 of Set 1 | corn island\n",
      "Processing Record 139 of Set 1 | kahului\n",
      "mentok not found\n",
      "belushya guba not found\n",
      "Processing Record 140 of Set 1 | saldanha\n",
      "Processing Record 141 of Set 1 | saint-philippe\n",
      "Processing Record 142 of Set 1 | charters towers\n",
      "Processing Record 143 of Set 1 | mehamn\n",
      "Processing Record 144 of Set 1 | alofi\n",
      "Processing Record 145 of Set 1 | san patricio\n",
      "Processing Record 146 of Set 1 | saint-pierre\n",
      "Processing Record 147 of Set 1 | usinsk\n",
      "Processing Record 148 of Set 1 | kemise\n",
      "Processing Record 149 of Set 1 | henties bay\n",
      "Processing Record 150 of Set 1 | port alfred\n",
      "Processing Record 151 of Set 1 | caravelas\n",
      "taolanaro not found\n",
      "Processing Record 152 of Set 1 | celestun\n",
      "Processing Record 153 of Set 1 | esperance\n",
      "Processing Record 154 of Set 1 | umea\n",
      "Processing Record 155 of Set 1 | bengkulu\n",
      "Processing Record 156 of Set 1 | teguldet\n",
      "Processing Record 157 of Set 1 | souillac\n",
      "Processing Record 158 of Set 1 | pevek\n",
      "Processing Record 159 of Set 1 | nexo\n",
      "Processing Record 160 of Set 1 | provideniya\n",
      "Processing Record 161 of Set 1 | nioro\n",
      "Processing Record 162 of Set 1 | portland\n",
      "Processing Record 163 of Set 1 | hasaki\n",
      "Processing Record 164 of Set 1 | atlantic city\n",
      "Processing Record 165 of Set 1 | bayangol\n",
      "Processing Record 166 of Set 1 | dingle\n",
      "Processing Record 167 of Set 1 | gazojak\n",
      "Processing Record 168 of Set 1 | sinnamary\n",
      "Processing Record 169 of Set 1 | hofn\n",
      "Processing Record 170 of Set 1 | matagami\n",
      "ituni not found\n",
      "Processing Record 171 of Set 1 | cairo montenotte\n",
      "Processing Record 172 of Set 1 | mabaruma\n",
      "Processing Record 173 of Set 1 | ilhabela\n",
      "Processing Record 174 of Set 1 | boda\n",
      "Processing Record 175 of Set 1 | keti bandar\n",
      "Processing Record 176 of Set 1 | campbell river\n",
      "Processing Record 177 of Set 1 | bauchi\n",
      "Processing Record 178 of Set 1 | suntar\n",
      "Processing Record 179 of Set 1 | vardo\n",
      "Processing Record 180 of Set 1 | juba\n",
      "Processing Record 181 of Set 1 | meppen\n",
      "Processing Record 182 of Set 1 | itarema\n",
      "Processing Record 183 of Set 1 | kilifi\n",
      "Processing Record 184 of Set 1 | sao joao da barra\n",
      "Processing Record 185 of Set 1 | payo\n",
      "Processing Record 186 of Set 1 | omboue\n",
      "Processing Record 187 of Set 1 | haapiti\n",
      "Processing Record 188 of Set 1 | kangasala\n"
     ]
    },
    {
     "name": "stdout",
     "output_type": "stream",
     "text": [
      "Processing Record 189 of Set 1 | cabinda\n",
      "Processing Record 190 of Set 1 | kozmodemyansk\n",
      "Processing Record 191 of Set 1 | gamba\n",
      "grand river south east not found\n",
      "Processing Record 192 of Set 1 | batemans bay\n",
      "Processing Record 193 of Set 1 | richards bay\n",
      "Processing Record 194 of Set 1 | mahajanga\n",
      "Processing Record 195 of Set 1 | along\n",
      "Processing Record 196 of Set 1 | muroto\n",
      "Processing Record 197 of Set 1 | salinopolis\n",
      "Processing Record 198 of Set 1 | norman wells\n",
      "Processing Record 199 of Set 1 | port hardy\n",
      "Processing Record 200 of Set 1 | chauk\n",
      "Processing Record 201 of Set 1 | baykit\n",
      "Processing Record 202 of Set 1 | soyo\n",
      "Processing Record 203 of Set 1 | ambilobe\n",
      "Processing Record 204 of Set 1 | grand gaube\n",
      "Processing Record 205 of Set 1 | yumen\n",
      "Processing Record 206 of Set 1 | ostashkov\n",
      "Processing Record 207 of Set 1 | valparaiso\n",
      "Processing Record 208 of Set 1 | fujin\n",
      "Processing Record 209 of Set 1 | leningradskiy\n",
      "Processing Record 210 of Set 1 | fortuna\n",
      "Processing Record 211 of Set 1 | klaksvik\n",
      "Processing Record 212 of Set 1 | poum\n",
      "Processing Record 213 of Set 1 | cherskiy\n",
      "Processing Record 214 of Set 1 | luderitz\n",
      "Processing Record 215 of Set 1 | olafsvik\n",
      "Processing Record 216 of Set 1 | lundazi\n",
      "Processing Record 217 of Set 1 | alice springs\n",
      "malwan not found\n",
      "Processing Record 218 of Set 1 | san cristobal\n",
      "Processing Record 219 of Set 1 | verkhoyansk\n",
      "Processing Record 220 of Set 1 | arlit\n",
      "Processing Record 221 of Set 1 | parfino\n",
      "Processing Record 222 of Set 1 | crateus\n",
      "Processing Record 223 of Set 1 | bo phloi\n",
      "Processing Record 224 of Set 1 | gizo\n",
      "Processing Record 225 of Set 1 | hithadhoo\n",
      "Processing Record 226 of Set 1 | vogan\n",
      "Processing Record 227 of Set 1 | evensk\n",
      "Processing Record 228 of Set 1 | nemuro\n",
      "Processing Record 229 of Set 1 | puerto ayacucho\n",
      "Processing Record 230 of Set 1 | mnogovershinnyy\n",
      "Processing Record 231 of Set 1 | gat\n",
      "Processing Record 232 of Set 1 | taunsa\n",
      "Processing Record 233 of Set 1 | concordia\n",
      "Processing Record 234 of Set 1 | kibala\n",
      "Processing Record 235 of Set 1 | jamestown\n",
      "Processing Record 236 of Set 1 | poopo\n",
      "Processing Record 237 of Set 1 | lavrentiya\n",
      "Processing Record 238 of Set 1 | geraldton\n",
      "Processing Record 239 of Set 1 | bull savanna\n",
      "chagda not found\n",
      "Processing Record 240 of Set 1 | ambon\n",
      "Processing Record 241 of Set 1 | sobolevo\n",
      "Processing Record 242 of Set 1 | westport\n",
      "Processing Record 243 of Set 1 | mexico\n",
      "Processing Record 244 of Set 1 | cranbrook\n",
      "Processing Record 245 of Set 1 | sicamous\n",
      "Processing Record 246 of Set 1 | bilibino\n",
      "Processing Record 247 of Set 1 | canmore\n",
      "Processing Record 248 of Set 1 | hay river\n",
      "Processing Record 249 of Set 1 | port blair\n",
      "Processing Record 250 of Set 1 | pringsewu\n",
      "Processing Record 251 of Set 1 | santa rosa\n",
      "Processing Record 252 of Set 1 | gusau\n",
      "Processing Record 253 of Set 1 | ballina\n",
      "Processing Record 254 of Set 1 | proletarsk\n",
      "Processing Record 255 of Set 1 | vila\n",
      "Processing Record 256 of Set 1 | thompson\n",
      "Processing Record 257 of Set 1 | katobu\n",
      "Processing Record 258 of Set 1 | yulara\n",
      "sataua not found\n",
      "Processing Record 259 of Set 1 | nyimba\n",
      "Processing Record 260 of Set 1 | saskylakh\n",
      "barentsburg not found\n",
      "Processing Record 261 of Set 1 | sovetskaya gavan\n",
      "Processing Record 262 of Set 1 | disna\n",
      "Processing Record 263 of Set 1 | shimoda\n",
      "Processing Record 264 of Set 1 | tulare\n",
      "Processing Record 265 of Set 1 | anuchino\n",
      "Processing Record 266 of Set 1 | yatou\n",
      "Processing Record 267 of Set 1 | kavieng\n",
      "Processing Record 268 of Set 1 | baherden\n",
      "Processing Record 269 of Set 1 | vila franca do campo\n",
      "Processing Record 270 of Set 1 | saint-louis\n",
      "Processing Record 271 of Set 1 | kirakira\n",
      "Processing Record 272 of Set 1 | yar-sale\n",
      "Processing Record 273 of Set 1 | nileshwar\n",
      "Processing Record 274 of Set 1 | russell\n",
      "Processing Record 275 of Set 1 | cascais\n",
      "Processing Record 276 of Set 1 | abha\n",
      "Processing Record 277 of Set 1 | kulunda\n",
      "Processing Record 278 of Set 1 | jaguaruna\n",
      "yomitan not found\n",
      "Processing Record 279 of Set 1 | constitucion\n",
      "Processing Record 280 of Set 1 | mumford\n",
      "Processing Record 281 of Set 1 | buchanan\n",
      "Processing Record 282 of Set 1 | bantry\n",
      "Processing Record 283 of Set 1 | peniche\n",
      "Processing Record 284 of Set 1 | berdsk\n",
      "Processing Record 285 of Set 1 | mazara del vallo\n",
      "Processing Record 286 of Set 1 | yate\n",
      "Processing Record 287 of Set 1 | flin flon\n",
      "Processing Record 288 of Set 1 | shingu\n",
      "Processing Record 289 of Set 1 | breyten\n",
      "Processing Record 290 of Set 1 | mayo\n",
      "Processing Record 291 of Set 1 | vao\n",
      "Processing Record 292 of Set 1 | komsomolskiy\n",
      "Processing Record 293 of Set 1 | tacna\n",
      "Processing Record 294 of Set 1 | sembakung\n",
      "Processing Record 295 of Set 1 | saint anthony\n",
      "Processing Record 296 of Set 1 | kavaratti\n",
      "Processing Record 297 of Set 1 | narsaq\n",
      "Processing Record 298 of Set 1 | novyy urengoy\n",
      "Processing Record 299 of Set 1 | lasa\n",
      "Processing Record 300 of Set 1 | castro\n",
      "Processing Record 301 of Set 1 | quballat\n",
      "tumannyy not found\n",
      "Processing Record 302 of Set 1 | acarau\n",
      "Processing Record 303 of Set 1 | fomboni\n",
      "Processing Record 304 of Set 1 | lidkoping\n",
      "jabiru not found\n",
      "Processing Record 305 of Set 1 | sur\n",
      "Processing Record 306 of Set 1 | paola\n",
      "Processing Record 307 of Set 1 | charlestown\n",
      "Processing Record 308 of Set 1 | sioux lookout\n",
      "Processing Record 309 of Set 1 | antsohihy\n",
      "Processing Record 310 of Set 1 | williston\n",
      "Processing Record 311 of Set 1 | campoverde\n",
      "Processing Record 312 of Set 1 | aykhal\n",
      "Processing Record 313 of Set 1 | tabou\n",
      "zhaocheng not found\n",
      "Processing Record 314 of Set 1 | madera\n",
      "Processing Record 315 of Set 1 | hudiksvall\n",
      "Processing Record 316 of Set 1 | vestmannaeyjar\n",
      "Processing Record 317 of Set 1 | dhidhdhoo\n",
      "Processing Record 318 of Set 1 | novobirilyussy\n",
      "Processing Record 319 of Set 1 | kannur\n",
      "Processing Record 320 of Set 1 | nago\n",
      "Processing Record 321 of Set 1 | rock sound\n",
      "Processing Record 322 of Set 1 | togul\n",
      "Processing Record 323 of Set 1 | helong\n",
      "Processing Record 324 of Set 1 | sovetskiy\n",
      "Processing Record 325 of Set 1 | bela cruz\n",
      "Processing Record 326 of Set 1 | miri\n",
      "Processing Record 327 of Set 1 | lagos\n",
      "Processing Record 328 of Set 1 | brae\n",
      "Processing Record 329 of Set 1 | khani\n",
      "Processing Record 330 of Set 1 | shihezi\n",
      "Processing Record 331 of Set 1 | maumere\n",
      "daxian not found\n",
      "Processing Record 332 of Set 1 | amapa\n",
      "Processing Record 333 of Set 1 | sorland\n",
      "Processing Record 334 of Set 1 | buzoesti\n",
      "Processing Record 335 of Set 1 | port moresby\n",
      "Processing Record 336 of Set 1 | aitape\n",
      "Processing Record 337 of Set 1 | zykovo\n",
      "Processing Record 338 of Set 1 | manokwari\n",
      "Processing Record 339 of Set 1 | ancud\n",
      "dzhusaly not found\n",
      "Processing Record 340 of Set 1 | minna\n",
      "Processing Record 341 of Set 1 | takoradi\n",
      "Processing Record 342 of Set 1 | letpadan\n",
      "Processing Record 343 of Set 1 | los llanos de aridane\n",
      "Processing Record 344 of Set 1 | marzuq\n",
      "Processing Record 345 of Set 1 | falmouth\n",
      "haibowan not found\n",
      "Processing Record 346 of Set 1 | moose factory\n",
      "Processing Record 347 of Set 1 | kieta\n",
      "sentyabrskiy not found\n",
      "Processing Record 348 of Set 1 | aguas vermelhas\n",
      "Processing Record 349 of Set 1 | jiuquan\n",
      "Processing Record 350 of Set 1 | goure\n",
      "Processing Record 351 of Set 1 | pemangkat\n",
      "ozgon not found\n",
      "Processing Record 352 of Set 1 | batagay-alyta\n",
      "tawkar not found\n",
      "Processing Record 353 of Set 1 | tazovskiy\n",
      "Processing Record 354 of Set 1 | angoche\n",
      "Processing Record 355 of Set 1 | wajima\n",
      "Processing Record 356 of Set 1 | ndjole\n",
      "Processing Record 357 of Set 1 | inuvik\n",
      "Processing Record 358 of Set 1 | contamana\n",
      "Processing Record 359 of Set 1 | santa fe\n",
      "palabuhanratu not found\n",
      "Processing Record 360 of Set 1 | lingao\n",
      "Processing Record 361 of Set 1 | ixtapa\n",
      "Processing Record 362 of Set 1 | jaguey grande\n",
      "Processing Record 363 of Set 1 | patos\n",
      "Processing Record 364 of Set 1 | kushiro\n",
      "Processing Record 365 of Set 1 | bida\n",
      "Processing Record 366 of Set 1 | ko samui\n",
      "Processing Record 367 of Set 1 | obernkirchen\n",
      "Processing Record 368 of Set 1 | teknaf\n",
      "Processing Record 369 of Set 1 | talara\n",
      "Processing Record 370 of Set 1 | ostrovnoy\n",
      "Processing Record 371 of Set 1 | hualmay\n",
      "Processing Record 372 of Set 1 | hatillo\n",
      "Processing Record 373 of Set 1 | ocean city\n",
      "Processing Record 374 of Set 1 | nuuk\n",
      "Processing Record 375 of Set 1 | berlevag\n",
      "Processing Record 376 of Set 1 | nantucket\n"
     ]
    },
    {
     "name": "stdout",
     "output_type": "stream",
     "text": [
      "Processing Record 377 of Set 1 | kutum\n",
      "Processing Record 378 of Set 1 | wenling\n",
      "Processing Record 379 of Set 1 | kaita\n",
      "Processing Record 380 of Set 1 | ingham\n",
      "Processing Record 381 of Set 1 | orapa\n",
      "Processing Record 382 of Set 1 | bonavista\n",
      "Processing Record 383 of Set 1 | karcag\n",
      "Processing Record 384 of Set 1 | tommot\n",
      "Processing Record 385 of Set 1 | pakxan\n",
      "Processing Record 386 of Set 1 | ayni\n",
      "Processing Record 387 of Set 1 | guaiuba\n",
      "Processing Record 388 of Set 1 | asau\n",
      "Processing Record 389 of Set 1 | necochea\n",
      "Processing Record 390 of Set 1 | vagur\n",
      "Processing Record 391 of Set 1 | mananara\n",
      "Processing Record 392 of Set 1 | bouna\n",
      "Processing Record 393 of Set 1 | road town\n",
      "Processing Record 394 of Set 1 | jodiya\n",
      "Processing Record 395 of Set 1 | rorvik\n",
      "Processing Record 396 of Set 1 | port hedland\n",
      "Processing Record 397 of Set 1 | rajanpur\n",
      "Processing Record 398 of Set 1 | umm kaddadah\n",
      "Processing Record 399 of Set 1 | kyaukse\n",
      "Processing Record 400 of Set 1 | vilhena\n",
      "Processing Record 401 of Set 1 | gogrial\n",
      "Processing Record 402 of Set 1 | hargeysa\n",
      "Processing Record 403 of Set 1 | cayenne\n",
      "Processing Record 404 of Set 1 | doha\n",
      "Processing Record 405 of Set 1 | shwebo\n",
      "Processing Record 406 of Set 1 | eravur\n",
      "Processing Record 407 of Set 1 | linhares\n",
      "Processing Record 408 of Set 1 | bubaque\n",
      "Processing Record 409 of Set 1 | dali\n",
      "Processing Record 410 of Set 1 | pasni\n",
      "Processing Record 411 of Set 1 | san vicente de canete\n",
      "Processing Record 412 of Set 1 | mandera\n",
      "Processing Record 413 of Set 1 | tessalit\n",
      "Processing Record 414 of Set 1 | bambui\n",
      "Processing Record 415 of Set 1 | namibe\n",
      "burica not found\n",
      "Processing Record 416 of Set 1 | surin\n",
      "Processing Record 417 of Set 1 | sao felix do xingu\n",
      "Processing Record 418 of Set 1 | vila velha\n",
      "Processing Record 419 of Set 1 | noyabrsk\n",
      "Processing Record 420 of Set 1 | tatawin\n",
      "Processing Record 421 of Set 1 | tura\n",
      "Processing Record 422 of Set 1 | paidha\n",
      "Processing Record 423 of Set 1 | port lincoln\n",
      "Processing Record 424 of Set 1 | ucluelet\n",
      "Processing Record 425 of Set 1 | zabol\n",
      "Processing Record 426 of Set 1 | zhanaozen\n",
      "sorvag not found\n",
      "Processing Record 427 of Set 1 | penzance\n",
      "Processing Record 428 of Set 1 | qui nhon\n",
      "Processing Record 429 of Set 1 | altay\n",
      "Processing Record 430 of Set 1 | nanakuli\n",
      "Processing Record 431 of Set 1 | urumqi\n",
      "Processing Record 432 of Set 1 | belyy yar\n",
      "Processing Record 433 of Set 1 | pouembout\n",
      "Processing Record 434 of Set 1 | caceres\n",
      "Processing Record 435 of Set 1 | iguape\n",
      "Processing Record 436 of Set 1 | padang\n",
      "Processing Record 437 of Set 1 | kibre mengist\n",
      "Processing Record 438 of Set 1 | trelew\n",
      "Processing Record 439 of Set 1 | yaan\n",
      "Processing Record 440 of Set 1 | mushie\n",
      "Processing Record 441 of Set 1 | rassvet\n",
      "Processing Record 442 of Set 1 | bar harbor\n",
      "Processing Record 443 of Set 1 | tahe\n",
      "Processing Record 444 of Set 1 | chernyshevskiy\n",
      "suao not found\n",
      "Processing Record 445 of Set 1 | conde\n",
      "yirol not found\n",
      "Processing Record 446 of Set 1 | faanui\n",
      "Processing Record 447 of Set 1 | lagos de moreno\n",
      "Processing Record 448 of Set 1 | dong hoi\n",
      "Processing Record 449 of Set 1 | lompoc\n",
      "Processing Record 450 of Set 1 | beira\n",
      "Processing Record 451 of Set 1 | astana\n",
      "Processing Record 452 of Set 1 | middelburg\n",
      "Processing Record 453 of Set 1 | gannan\n",
      "Processing Record 454 of Set 1 | tirano\n",
      "kawana waters not found\n",
      "tingrela not found\n",
      "Processing Record 455 of Set 1 | birjand\n",
      "Processing Record 456 of Set 1 | nyurba\n",
      "Processing Record 457 of Set 1 | deputatskiy\n",
      "Processing Record 458 of Set 1 | isiro\n",
      "Processing Record 459 of Set 1 | porto belo\n",
      "Processing Record 460 of Set 1 | yingcheng\n",
      "Processing Record 461 of Set 1 | lata\n",
      "Processing Record 462 of Set 1 | taoudenni\n",
      "Processing Record 463 of Set 1 | vanimo\n",
      "Processing Record 464 of Set 1 | grand-santi\n",
      "Processing Record 465 of Set 1 | jumla\n",
      "Processing Record 466 of Set 1 | bonthe\n",
      "Processing Record 467 of Set 1 | kununurra\n",
      "Processing Record 468 of Set 1 | remanso\n",
      "Processing Record 469 of Set 1 | gornyak\n",
      "Processing Record 470 of Set 1 | lubyany\n",
      "Processing Record 471 of Set 1 | bilma\n",
      "sao miguel do oeste not found\n",
      "Processing Record 472 of Set 1 | fortuna foothills\n",
      "Processing Record 473 of Set 1 | golden\n",
      "Processing Record 474 of Set 1 | terrace bay\n",
      "Processing Record 475 of Set 1 | manuk mangkaw\n",
      "Processing Record 476 of Set 1 | gijon\n",
      "Processing Record 477 of Set 1 | carroll\n",
      "Processing Record 478 of Set 1 | havoysund\n",
      "Processing Record 479 of Set 1 | tiarei\n",
      "mullaitivu not found\n",
      "la gaulette not found\n",
      "Processing Record 480 of Set 1 | tomatlan\n",
      "Processing Record 481 of Set 1 | sambava\n",
      "Processing Record 482 of Set 1 | ensenada\n",
      "Processing Record 483 of Set 1 | biak\n",
      "Processing Record 484 of Set 1 | petropavlovsk-kamchatskiy\n",
      "Processing Record 485 of Set 1 | fiumicino\n",
      "Processing Record 486 of Set 1 | viedma\n",
      "Processing Record 487 of Set 1 | trinidad\n",
      "Processing Record 488 of Set 1 | dezhou\n",
      "Processing Record 489 of Set 1 | timra\n",
      "Processing Record 490 of Set 1 | bandarbeyla\n",
      "Processing Record 491 of Set 1 | alpena\n",
      "Processing Record 492 of Set 1 | kharp\n",
      "Processing Record 493 of Set 1 | mandapam\n",
      "Processing Record 494 of Set 1 | oppdal\n",
      "Processing Record 495 of Set 1 | bambanglipuro\n",
      "kamenskoye not found\n",
      "Processing Record 496 of Set 1 | esmeraldas\n",
      "Processing Record 497 of Set 1 | sanger\n",
      "Processing Record 498 of Set 1 | fukue\n",
      "stoyba not found\n",
      "Processing Record 499 of Set 1 | phetchabun\n",
      "Processing Record 500 of Set 1 | amuntai\n",
      "Processing Record 501 of Set 1 | berdigestyakh\n",
      "Processing Record 502 of Set 1 | progreso\n",
      "Processing Record 503 of Set 1 | chapada dos guimaraes\n",
      "Processing Record 504 of Set 1 | pascagoula\n",
      "Processing Record 505 of Set 1 | kaspiysk\n",
      "Processing Record 506 of Set 1 | bata\n",
      "Processing Record 507 of Set 1 | harper\n",
      "Processing Record 508 of Set 1 | kidal\n",
      "Processing Record 509 of Set 1 | diego de almagro\n",
      "Processing Record 510 of Set 1 | samarinda\n",
      "zachagansk not found\n"
     ]
    }
   ],
   "source": [
    "\n",
    "lat = []\n",
    "long = []\n",
    "Max_Temp = []\n",
    "Humidity = []\n",
    "Cloudiness = []\n",
    "Wind_Speed = []\n",
    "Country = []\n",
    "Date = []\n",
    "finalcities = []\n",
    "\n",
    "counter = 0\n",
    "secondcounter = 0\n",
    "print(len(cities))\n",
    "for city  in cities:\n",
    "    url = f\"https://api.openweathermap.org/data/2.5/weather?q={city}&appid={weather_api_key}\"\n",
    "    response = requests.get(url).json()\n",
    "    try:\n",
    "        lat.append(response['coord'][\"lat\"])\n",
    "        long.append(response['coord'][\"lon\"])\n",
    "        Max_Temp.append(response[\"main\"][\"temp_max\"])\n",
    "        Humidity.append(response[\"main\"][\"humidity\"])\n",
    "        Cloudiness.append(response[\"clouds\"][\"all\"])\n",
    "        Wind_Speed.append(response[\"wind\"][\"speed\"])\n",
    "        Country.append(response[\"sys\"][\"country\"])\n",
    "        Date.append(response[\"dt\"])\n",
    "        counter += 1\n",
    "        print(f\"Processing Record {counter} of Set 1 | {city}\")\n",
    "        finalcities.append(city)\n",
    "    except: \n",
    "        print(f\"{city} not found\")\n",
    "        cities.remove(city)\n",
    "        secondcounter +=1\n",
    "        pass\n",
    "    time.sleep(3)\n"
   ]
  },
  {
   "cell_type": "markdown",
   "metadata": {},
   "source": [
    "### Convert Raw Data to DataFrame\n",
    "* Export the city data into a .csv.\n",
    "* Display the DataFrame"
   ]
  },
  {
   "cell_type": "code",
   "execution_count": 5,
   "metadata": {},
   "outputs": [
    {
     "data": {
      "text/plain": [
       "556"
      ]
     },
     "execution_count": 5,
     "metadata": {},
     "output_type": "execute_result"
    }
   ],
   "source": [
    "len(finalcities)\n"
   ]
  },
  {
   "cell_type": "code",
   "execution_count": 7,
   "metadata": {},
   "outputs": [
    {
     "data": {
      "text/html": [
       "<div>\n",
       "<style scoped>\n",
       "    .dataframe tbody tr th:only-of-type {\n",
       "        vertical-align: middle;\n",
       "    }\n",
       "\n",
       "    .dataframe tbody tr th {\n",
       "        vertical-align: top;\n",
       "    }\n",
       "\n",
       "    .dataframe thead th {\n",
       "        text-align: right;\n",
       "    }\n",
       "</style>\n",
       "<table border=\"1\" class=\"dataframe\">\n",
       "  <thead>\n",
       "    <tr style=\"text-align: right;\">\n",
       "      <th></th>\n",
       "      <th>City</th>\n",
       "      <th>Lat</th>\n",
       "      <th>Lon</th>\n",
       "      <th>Max_Temp</th>\n",
       "      <th>Humidity</th>\n",
       "      <th>Cloudiness</th>\n",
       "      <th>Wind_Speed</th>\n",
       "      <th>Country</th>\n",
       "      <th>Date</th>\n",
       "    </tr>\n",
       "  </thead>\n",
       "  <tbody>\n",
       "    <tr>\n",
       "      <th>0</th>\n",
       "      <td>kosai</td>\n",
       "      <td>34.7105</td>\n",
       "      <td>137.5316</td>\n",
       "      <td>291.48</td>\n",
       "      <td>15</td>\n",
       "      <td>0</td>\n",
       "      <td>4.92</td>\n",
       "      <td>JP</td>\n",
       "      <td>1618801381</td>\n",
       "    </tr>\n",
       "    <tr>\n",
       "      <th>1</th>\n",
       "      <td>clyde river</td>\n",
       "      <td>70.4692</td>\n",
       "      <td>-68.5914</td>\n",
       "      <td>255.15</td>\n",
       "      <td>85</td>\n",
       "      <td>75</td>\n",
       "      <td>5.66</td>\n",
       "      <td>CA</td>\n",
       "      <td>1618801385</td>\n",
       "    </tr>\n",
       "    <tr>\n",
       "      <th>2</th>\n",
       "      <td>ouadda</td>\n",
       "      <td>8.0777</td>\n",
       "      <td>22.4007</td>\n",
       "      <td>296.50</td>\n",
       "      <td>65</td>\n",
       "      <td>100</td>\n",
       "      <td>1.42</td>\n",
       "      <td>CF</td>\n",
       "      <td>1618801389</td>\n",
       "    </tr>\n",
       "    <tr>\n",
       "      <th>3</th>\n",
       "      <td>lebu</td>\n",
       "      <td>-37.6167</td>\n",
       "      <td>-73.6500</td>\n",
       "      <td>286.17</td>\n",
       "      <td>88</td>\n",
       "      <td>59</td>\n",
       "      <td>4.72</td>\n",
       "      <td>CL</td>\n",
       "      <td>1618801393</td>\n",
       "    </tr>\n",
       "    <tr>\n",
       "      <th>4</th>\n",
       "      <td>gora kalwaria</td>\n",
       "      <td>51.9765</td>\n",
       "      <td>21.2154</td>\n",
       "      <td>280.15</td>\n",
       "      <td>100</td>\n",
       "      <td>89</td>\n",
       "      <td>1.54</td>\n",
       "      <td>PL</td>\n",
       "      <td>1618801238</td>\n",
       "    </tr>\n",
       "    <tr>\n",
       "      <th>...</th>\n",
       "      <td>...</td>\n",
       "      <td>...</td>\n",
       "      <td>...</td>\n",
       "      <td>...</td>\n",
       "      <td>...</td>\n",
       "      <td>...</td>\n",
       "      <td>...</td>\n",
       "      <td>...</td>\n",
       "      <td>...</td>\n",
       "    </tr>\n",
       "    <tr>\n",
       "      <th>505</th>\n",
       "      <td>bata</td>\n",
       "      <td>1.8639</td>\n",
       "      <td>9.7658</td>\n",
       "      <td>298.15</td>\n",
       "      <td>100</td>\n",
       "      <td>40</td>\n",
       "      <td>1.50</td>\n",
       "      <td>GQ</td>\n",
       "      <td>1618803527</td>\n",
       "    </tr>\n",
       "    <tr>\n",
       "      <th>506</th>\n",
       "      <td>harper</td>\n",
       "      <td>4.3750</td>\n",
       "      <td>-7.7169</td>\n",
       "      <td>299.97</td>\n",
       "      <td>81</td>\n",
       "      <td>100</td>\n",
       "      <td>2.52</td>\n",
       "      <td>LR</td>\n",
       "      <td>1618803530</td>\n",
       "    </tr>\n",
       "    <tr>\n",
       "      <th>507</th>\n",
       "      <td>kidal</td>\n",
       "      <td>18.4411</td>\n",
       "      <td>1.4078</td>\n",
       "      <td>300.66</td>\n",
       "      <td>15</td>\n",
       "      <td>43</td>\n",
       "      <td>4.83</td>\n",
       "      <td>ML</td>\n",
       "      <td>1618803534</td>\n",
       "    </tr>\n",
       "    <tr>\n",
       "      <th>508</th>\n",
       "      <td>diego de almagro</td>\n",
       "      <td>-26.3667</td>\n",
       "      <td>-70.0500</td>\n",
       "      <td>289.19</td>\n",
       "      <td>57</td>\n",
       "      <td>0</td>\n",
       "      <td>0.84</td>\n",
       "      <td>CL</td>\n",
       "      <td>1618803537</td>\n",
       "    </tr>\n",
       "    <tr>\n",
       "      <th>509</th>\n",
       "      <td>samarinda</td>\n",
       "      <td>-0.5000</td>\n",
       "      <td>117.1500</td>\n",
       "      <td>303.99</td>\n",
       "      <td>58</td>\n",
       "      <td>100</td>\n",
       "      <td>2.06</td>\n",
       "      <td>ID</td>\n",
       "      <td>1618803541</td>\n",
       "    </tr>\n",
       "  </tbody>\n",
       "</table>\n",
       "<p>510 rows × 9 columns</p>\n",
       "</div>"
      ],
      "text/plain": [
       "                 City      Lat       Lon  Max_Temp  Humidity  Cloudiness  \\\n",
       "0               kosai  34.7105  137.5316    291.48        15           0   \n",
       "1         clyde river  70.4692  -68.5914    255.15        85          75   \n",
       "2              ouadda   8.0777   22.4007    296.50        65         100   \n",
       "3                lebu -37.6167  -73.6500    286.17        88          59   \n",
       "4       gora kalwaria  51.9765   21.2154    280.15       100          89   \n",
       "..                ...      ...       ...       ...       ...         ...   \n",
       "505              bata   1.8639    9.7658    298.15       100          40   \n",
       "506            harper   4.3750   -7.7169    299.97        81         100   \n",
       "507             kidal  18.4411    1.4078    300.66        15          43   \n",
       "508  diego de almagro -26.3667  -70.0500    289.19        57           0   \n",
       "509         samarinda  -0.5000  117.1500    303.99        58         100   \n",
       "\n",
       "     Wind_Speed Country        Date  \n",
       "0          4.92      JP  1618801381  \n",
       "1          5.66      CA  1618801385  \n",
       "2          1.42      CF  1618801389  \n",
       "3          4.72      CL  1618801393  \n",
       "4          1.54      PL  1618801238  \n",
       "..          ...     ...         ...  \n",
       "505        1.50      GQ  1618803527  \n",
       "506        2.52      LR  1618803530  \n",
       "507        4.83      ML  1618803534  \n",
       "508        0.84      CL  1618803537  \n",
       "509        2.06      ID  1618803541  \n",
       "\n",
       "[510 rows x 9 columns]"
      ]
     },
     "execution_count": 7,
     "metadata": {},
     "output_type": "execute_result"
    }
   ],
   "source": [
    "dicter = {\"City\": finalcities,\n",
    "          \"Lat\": lat, \n",
    "          \"Lon\" : long, \n",
    "          \"Max_Temp\": Max_Temp, \n",
    "          \"Humidity\" : Humidity, \n",
    "          \"Cloudiness\" : Cloudiness, \n",
    "          \"Wind_Speed\" : Wind_Speed, \n",
    "          \"Country\" : Country,\n",
    "          \"Date\" : Date}\n",
    "city_frame = pd.DataFrame(dicter)\n",
    "city_frame"
   ]
  },
  {
   "cell_type": "code",
   "execution_count": null,
   "metadata": {},
   "outputs": [],
   "source": []
  },
  {
   "cell_type": "markdown",
   "metadata": {},
   "source": [
    "## Inspect the data and remove the cities where the humidity > 100%.\n",
    "----\n",
    "Skip this step if there are no cities that have humidity > 100%. "
   ]
  },
  {
   "cell_type": "code",
   "execution_count": null,
   "metadata": {},
   "outputs": [],
   "source": []
  },
  {
   "cell_type": "code",
   "execution_count": 12,
   "metadata": {},
   "outputs": [
    {
     "data": {
      "text/html": [
       "<div>\n",
       "<style scoped>\n",
       "    .dataframe tbody tr th:only-of-type {\n",
       "        vertical-align: middle;\n",
       "    }\n",
       "\n",
       "    .dataframe tbody tr th {\n",
       "        vertical-align: top;\n",
       "    }\n",
       "\n",
       "    .dataframe thead th {\n",
       "        text-align: right;\n",
       "    }\n",
       "</style>\n",
       "<table border=\"1\" class=\"dataframe\">\n",
       "  <thead>\n",
       "    <tr style=\"text-align: right;\">\n",
       "      <th></th>\n",
       "      <th>City</th>\n",
       "      <th>Lat</th>\n",
       "      <th>Lon</th>\n",
       "      <th>Max_Temp</th>\n",
       "      <th>Humidity</th>\n",
       "      <th>Cloudiness</th>\n",
       "      <th>Wind_Speed</th>\n",
       "      <th>Country</th>\n",
       "      <th>Date</th>\n",
       "    </tr>\n",
       "  </thead>\n",
       "  <tbody>\n",
       "    <tr>\n",
       "      <th>0</th>\n",
       "      <td>kosai</td>\n",
       "      <td>34.7105</td>\n",
       "      <td>137.5316</td>\n",
       "      <td>291.48</td>\n",
       "      <td>15</td>\n",
       "      <td>0</td>\n",
       "      <td>4.92</td>\n",
       "      <td>JP</td>\n",
       "      <td>1618801381</td>\n",
       "    </tr>\n",
       "    <tr>\n",
       "      <th>1</th>\n",
       "      <td>clyde river</td>\n",
       "      <td>70.4692</td>\n",
       "      <td>-68.5914</td>\n",
       "      <td>255.15</td>\n",
       "      <td>85</td>\n",
       "      <td>75</td>\n",
       "      <td>5.66</td>\n",
       "      <td>CA</td>\n",
       "      <td>1618801385</td>\n",
       "    </tr>\n",
       "    <tr>\n",
       "      <th>2</th>\n",
       "      <td>ouadda</td>\n",
       "      <td>8.0777</td>\n",
       "      <td>22.4007</td>\n",
       "      <td>296.50</td>\n",
       "      <td>65</td>\n",
       "      <td>100</td>\n",
       "      <td>1.42</td>\n",
       "      <td>CF</td>\n",
       "      <td>1618801389</td>\n",
       "    </tr>\n",
       "    <tr>\n",
       "      <th>3</th>\n",
       "      <td>lebu</td>\n",
       "      <td>-37.6167</td>\n",
       "      <td>-73.6500</td>\n",
       "      <td>286.17</td>\n",
       "      <td>88</td>\n",
       "      <td>59</td>\n",
       "      <td>4.72</td>\n",
       "      <td>CL</td>\n",
       "      <td>1618801393</td>\n",
       "    </tr>\n",
       "    <tr>\n",
       "      <th>5</th>\n",
       "      <td>kaitangata</td>\n",
       "      <td>-46.2817</td>\n",
       "      <td>169.8464</td>\n",
       "      <td>291.27</td>\n",
       "      <td>52</td>\n",
       "      <td>24</td>\n",
       "      <td>4.42</td>\n",
       "      <td>NZ</td>\n",
       "      <td>1618801400</td>\n",
       "    </tr>\n",
       "    <tr>\n",
       "      <th>...</th>\n",
       "      <td>...</td>\n",
       "      <td>...</td>\n",
       "      <td>...</td>\n",
       "      <td>...</td>\n",
       "      <td>...</td>\n",
       "      <td>...</td>\n",
       "      <td>...</td>\n",
       "      <td>...</td>\n",
       "      <td>...</td>\n",
       "    </tr>\n",
       "    <tr>\n",
       "      <th>504</th>\n",
       "      <td>kaspiysk</td>\n",
       "      <td>42.8816</td>\n",
       "      <td>47.6392</td>\n",
       "      <td>285.15</td>\n",
       "      <td>87</td>\n",
       "      <td>100</td>\n",
       "      <td>1.00</td>\n",
       "      <td>RU</td>\n",
       "      <td>1618803523</td>\n",
       "    </tr>\n",
       "    <tr>\n",
       "      <th>506</th>\n",
       "      <td>harper</td>\n",
       "      <td>4.3750</td>\n",
       "      <td>-7.7169</td>\n",
       "      <td>299.97</td>\n",
       "      <td>81</td>\n",
       "      <td>100</td>\n",
       "      <td>2.52</td>\n",
       "      <td>LR</td>\n",
       "      <td>1618803530</td>\n",
       "    </tr>\n",
       "    <tr>\n",
       "      <th>507</th>\n",
       "      <td>kidal</td>\n",
       "      <td>18.4411</td>\n",
       "      <td>1.4078</td>\n",
       "      <td>300.66</td>\n",
       "      <td>15</td>\n",
       "      <td>43</td>\n",
       "      <td>4.83</td>\n",
       "      <td>ML</td>\n",
       "      <td>1618803534</td>\n",
       "    </tr>\n",
       "    <tr>\n",
       "      <th>508</th>\n",
       "      <td>diego de almagro</td>\n",
       "      <td>-26.3667</td>\n",
       "      <td>-70.0500</td>\n",
       "      <td>289.19</td>\n",
       "      <td>57</td>\n",
       "      <td>0</td>\n",
       "      <td>0.84</td>\n",
       "      <td>CL</td>\n",
       "      <td>1618803537</td>\n",
       "    </tr>\n",
       "    <tr>\n",
       "      <th>509</th>\n",
       "      <td>samarinda</td>\n",
       "      <td>-0.5000</td>\n",
       "      <td>117.1500</td>\n",
       "      <td>303.99</td>\n",
       "      <td>58</td>\n",
       "      <td>100</td>\n",
       "      <td>2.06</td>\n",
       "      <td>ID</td>\n",
       "      <td>1618803541</td>\n",
       "    </tr>\n",
       "  </tbody>\n",
       "</table>\n",
       "<p>496 rows × 9 columns</p>\n",
       "</div>"
      ],
      "text/plain": [
       "                 City      Lat       Lon  Max_Temp  Humidity  Cloudiness  \\\n",
       "0               kosai  34.7105  137.5316    291.48        15           0   \n",
       "1         clyde river  70.4692  -68.5914    255.15        85          75   \n",
       "2              ouadda   8.0777   22.4007    296.50        65         100   \n",
       "3                lebu -37.6167  -73.6500    286.17        88          59   \n",
       "5          kaitangata -46.2817  169.8464    291.27        52          24   \n",
       "..                ...      ...       ...       ...       ...         ...   \n",
       "504          kaspiysk  42.8816   47.6392    285.15        87         100   \n",
       "506            harper   4.3750   -7.7169    299.97        81         100   \n",
       "507             kidal  18.4411    1.4078    300.66        15          43   \n",
       "508  diego de almagro -26.3667  -70.0500    289.19        57           0   \n",
       "509         samarinda  -0.5000  117.1500    303.99        58         100   \n",
       "\n",
       "     Wind_Speed Country        Date  \n",
       "0          4.92      JP  1618801381  \n",
       "1          5.66      CA  1618801385  \n",
       "2          1.42      CF  1618801389  \n",
       "3          4.72      CL  1618801393  \n",
       "5          4.42      NZ  1618801400  \n",
       "..          ...     ...         ...  \n",
       "504        1.00      RU  1618803523  \n",
       "506        2.52      LR  1618803530  \n",
       "507        4.83      ML  1618803534  \n",
       "508        0.84      CL  1618803537  \n",
       "509        2.06      ID  1618803541  \n",
       "\n",
       "[496 rows x 9 columns]"
      ]
     },
     "execution_count": 12,
     "metadata": {},
     "output_type": "execute_result"
    }
   ],
   "source": [
    "#  Get the indices of cities that have humidity over 100%.\n",
    "clean_city_data = city_frame.loc[city_frame[\"Humidity\"] < 100]\n",
    "clean_city_data"
   ]
  },
  {
   "cell_type": "code",
   "execution_count": null,
   "metadata": {},
   "outputs": [],
   "source": [
    "# Make a new DataFrame equal to the city data to drop all humidity outliers by index.\n",
    "# Passing \"inplace=False\" will make a copy of the city_data DataFrame, which we call \"clean_city_data\".\n"
   ]
  },
  {
   "cell_type": "markdown",
   "metadata": {},
   "source": [
    "## Plotting the Data\n",
    "* Use proper labeling of the plots using plot titles (including date of analysis) and axes labels.\n",
    "* Save the plotted figures as .pngs."
   ]
  },
  {
   "cell_type": "markdown",
   "metadata": {},
   "source": [
    "## Latitude vs. Temperature Plot"
   ]
  },
  {
   "cell_type": "code",
   "execution_count": 14,
   "metadata": {
    "scrolled": true
   },
   "outputs": [
    {
     "data": {
      "image/png": "[encoded data removed]",
      "text/plain": [
       "<Figure size 432x288 with 1 Axes>"
      ]
     },
     "metadata": {
      "needs_background": "light"
     },
     "output_type": "display_data"
    }
   ],
   "source": [
    "plt.scatter(clean_city_data[\"Lat\"], clean_city_data[\"Max_Temp\"])\n",
    "plt.xlabel(\"Latidude\")\n",
    "plt.ylabel(\"Max Temperatue\")\n",
    "plt.title(\"Latitude vs. Temperature Plot\")\n",
    "plt.show()"
   ]
  },
  {
   "cell_type": "markdown",
   "metadata": {},
   "source": [
    "## Latitude vs. Humidity Plot"
   ]
  },
  {
   "cell_type": "code",
   "execution_count": 16,
   "metadata": {},
   "outputs": [
    {
     "data": {
      "image/png": "[encoded data removed]",
      "text/plain": [
       "<Figure size 432x288 with 1 Axes>"
      ]
     },
     "metadata": {
      "needs_background": "light"
     },
     "output_type": "display_data"
    }
   ],
   "source": [
    "plt.scatter(clean_city_data[\"Lat\"], clean_city_data[\"Humidity\"])\n",
    "plt.xlabel(\"Latidude\")\n",
    "plt.ylabel(\"Humidity\")\n",
    "plt.title(\"Latitude vs. Humidity\")\n",
    "plt.show()"
   ]
  },
  {
   "cell_type": "markdown",
   "metadata": {},
   "source": [
    "## Latitude vs. Cloudiness Plot"
   ]
  },
  {
   "cell_type": "code",
   "execution_count": 17,
   "metadata": {},
   "outputs": [
    {
     "data": {
      "image/png": "[encoded data removed]",
      "text/plain": [
       "<Figure size 432x288 with 1 Axes>"
      ]
     },
     "metadata": {
      "needs_background": "light"
     },
     "output_type": "display_data"
    }
   ],
   "source": [
    "plt.scatter(clean_city_data[\"Lat\"], clean_city_data[\"Cloudiness\"])\n",
    "plt.xlabel(\"Latidude\")\n",
    "plt.ylabel(\"Cloudiness\")\n",
    "plt.title(\"Latitude vs. Cloudiness\")\n",
    "plt.show()"
   ]
  },
  {
   "cell_type": "markdown",
   "metadata": {},
   "source": [
    "## Latitude vs. Wind Speed Plot"
   ]
  },
  {
   "cell_type": "code",
   "execution_count": 18,
   "metadata": {},
   "outputs": [
    {
     "data": {
      "image/png": "[encoded data removed]",
      "text/plain": [
       "<Figure size 432x288 with 1 Axes>"
      ]
     },
     "metadata": {
      "needs_background": "light"
     },
     "output_type": "display_data"
    }
   ],
   "source": [
    "plt.scatter(clean_city_data[\"Lat\"], clean_city_data[\"Wind_Speed\"])\n",
    "plt.xlabel(\"Latidude\")\n",
    "plt.ylabel(\"Wind_Speed\")\n",
    "plt.title(\"Latitude vs. Wind_Speed\")\n",
    "plt.show()"
   ]
  },
  {
   "cell_type": "markdown",
   "metadata": {},
   "source": [
    "## Linear Regression"
   ]
  },
  {
   "cell_type": "code",
   "execution_count": 19,
   "metadata": {},
   "outputs": [],
   "source": [
    "northern_hemisphere = clean_city_data.loc[clean_city_data[\"Lat\"] >= 0]\n",
    "southern_hemisphere = clean_city_data.loc[clean_city_data[\"Lat\"] < 0]"
   ]
  },
  {
   "cell_type": "markdown",
   "metadata": {},
   "source": [
    "####  Northern Hemisphere - Max Temp vs. Latitude Linear Regression"
   ]
  },
  {
   "cell_type": "code",
   "execution_count": 50,
   "metadata": {},
   "outputs": [
    {
     "data": {
      "image/png": "[encoded data removed]",
      "text/plain": [
       "<Figure size 432x288 with 1 Axes>"
      ]
     },
     "metadata": {
      "needs_background": "light"
     },
     "output_type": "display_data"
    },
    {
     "name": "stdout",
     "output_type": "stream",
     "text": [
      "r =-0.8776077230516055\n"
     ]
    }
   ],
   "source": [
    "(slope, intercept, rvaluem, pvalue, stderr) = st.linregress(northern_hemisphere[\"Lat\"], northern_hemisphere[\"Max_Temp\"])\n",
    "regress_values = (northern_hemisphere[\"Lat\"] * slope) + intercept\n",
    "plt.plot(northern_hemisphere[\"Lat\"], regress_values, color = \"r\")\n",
    "plt.scatter(northern_hemisphere[\"Lat\"], northern_hemisphere[\"Max_Temp\"])\n",
    "plt.xlabel(\"Latidude\")\n",
    "plt.ylabel(\"Max Temperatue\")\n",
    "plt.title(\" Northern Hemisphere Latitude vs. Temperature Plot\")\n",
    "plt.show()\n",
    "corcoefficient = st.pearsonr(northern_hemisphere[\"Lat\"], northern_hemisphere[\"Max_Temp\"])\n",
    "print(f\"r ={corcoefficient[0]}\")"
   ]
  },
  {
   "cell_type": "markdown",
   "metadata": {},
   "source": [
    "####  Southern Hemisphere - Max Temp vs. Latitude Linear Regression"
   ]
  },
  {
   "cell_type": "code",
   "execution_count": 51,
   "metadata": {},
   "outputs": [
    {
     "data": {
      "image/png": "[encoded data removed]",
      "text/plain": [
       "<Figure size 432x288 with 1 Axes>"
      ]
     },
     "metadata": {
      "needs_background": "light"
     },
     "output_type": "display_data"
    },
    {
     "name": "stdout",
     "output_type": "stream",
     "text": [
      "r =0.5948095011546811\n"
     ]
    }
   ],
   "source": [
    "(slope, intercept, rvaluem, pvalue, stderr) = st.linregress(southern_hemisphere[\"Lat\"], southern_hemisphere[\"Max_Temp\"])\n",
    "regress_values = (southern_hemisphere[\"Lat\"] * slope) + intercept\n",
    "plt.plot(southern_hemisphere[\"Lat\"], regress_values, color = \"r\")\n",
    "plt.scatter(southern_hemisphere[\"Lat\"], southern_hemisphere[\"Max_Temp\"])\n",
    "plt.xlabel(\"Latidude\")\n",
    "plt.ylabel(\"Max Temperatue\")\n",
    "plt.title(\"Southern Hemisphere Latitude vs. Temperature Plot\")\n",
    "plt.show()\n",
    "corcoefficient = st.pearsonr(southern_hemisphere[\"Lat\"], southern_hemisphere[\"Max_Temp\"])\n",
    "print(f\"r ={corcoefficient[0]}\")"
   ]
  },
  {
   "cell_type": "markdown",
   "metadata": {},
   "source": [
    "####  Northern Hemisphere - Humidity (%) vs. Latitude Linear Regression"
   ]
  },
  {
   "cell_type": "code",
   "execution_count": 52,
   "metadata": {},
   "outputs": [
    {
     "data": {
      "image/png": "[encoded data removed]",
      "text/plain": [
       "<Figure size 432x288 with 1 Axes>"
      ]
     },
     "metadata": {
      "needs_background": "light"
     },
     "output_type": "display_data"
    },
    {
     "name": "stdout",
     "output_type": "stream",
     "text": [
      "r =0.12179732435662219\n"
     ]
    }
   ],
   "source": [
    "(slope, intercept, rvaluem, pvalue, stderr) = st.linregress(northern_hemisphere[\"Lat\"], northern_hemisphere[\"Humidity\"])\n",
    "regress_values = (northern_hemisphere[\"Lat\"] * slope) + intercept\n",
    "plt.plot(northern_hemisphere[\"Lat\"], regress_values, color = \"r\")\n",
    "plt.scatter(northern_hemisphere[\"Lat\"], northern_hemisphere[\"Humidity\"])\n",
    "plt.xlabel(\"Latidude\")\n",
    "plt.ylabel(\"Humidity\")\n",
    "plt.title(\"Northern Hemisphere Latitude vs. Humidity Plot\")\n",
    "plt.show()\n",
    "corcoefficient = st.pearsonr(northern_hemisphere[\"Lat\"], northern_hemisphere[\"Humidity\"])\n",
    "print(f\"r ={corcoefficient[0]}\")"
   ]
  },
  {
   "cell_type": "markdown",
   "metadata": {},
   "source": [
    "####  Southern Hemisphere - Humidity (%) vs. Latitude Linear Regression"
   ]
  },
  {
   "cell_type": "code",
   "execution_count": 53,
   "metadata": {},
   "outputs": [
    {
     "data": {
      "image/png": "[encoded data removed]",
      "text/plain": [
       "<Figure size 432x288 with 1 Axes>"
      ]
     },
     "metadata": {
      "needs_background": "light"
     },
     "output_type": "display_data"
    },
    {
     "name": "stdout",
     "output_type": "stream",
     "text": [
      "r =0.23822954888241896\n"
     ]
    }
   ],
   "source": [
    "(slope, intercept, rvaluem, pvalue, stderr) = st.linregress(southern_hemisphere[\"Lat\"], southern_hemisphere[\"Humidity\"])\n",
    "regress_values = (southern_hemisphere[\"Lat\"] * slope) + intercept\n",
    "plt.plot(southern_hemisphere[\"Lat\"], regress_values, color = \"r\")\n",
    "plt.scatter(southern_hemisphere[\"Lat\"], southern_hemisphere[\"Humidity\"])\n",
    "plt.xlabel(\"Latidude\")\n",
    "plt.ylabel(\"Humidity\")\n",
    "plt.title(\"Southern Hemisphere Latitude vs. Humidity Plot\")\n",
    "plt.show()\n",
    "corcoefficient = st.pearsonr(southern_hemisphere[\"Lat\"], southern_hemisphere[\"Humidity\"])\n",
    "print(f\"r ={corcoefficient[0]}\")"
   ]
  },
  {
   "cell_type": "markdown",
   "metadata": {},
   "source": [
    "####  Northern Hemisphere - Cloudiness (%) vs. Latitude Linear Regression"
   ]
  },
  {
   "cell_type": "code",
   "execution_count": 54,
   "metadata": {},
   "outputs": [
    {
     "data": {
      "image/png": "[encoded data removed]",
      "text/plain": [
       "<Figure size 432x288 with 1 Axes>"
      ]
     },
     "metadata": {
      "needs_background": "light"
     },
     "output_type": "display_data"
    },
    {
     "name": "stdout",
     "output_type": "stream",
     "text": [
      "r =-0.02529023619870745\n"
     ]
    }
   ],
   "source": [
    "(slope, intercept, rvaluem, pvalue, stderr) = st.linregress(northern_hemisphere[\"Lat\"], northern_hemisphere[\"Cloudiness\"])\n",
    "regress_values = (northern_hemisphere[\"Lat\"] * slope) + intercept\n",
    "plt.plot(northern_hemisphere[\"Lat\"], regress_values, color = \"r\")\n",
    "plt.scatter(northern_hemisphere[\"Lat\"], northern_hemisphere[\"Cloudiness\"])\n",
    "plt.xlabel(\"Latidude\")\n",
    "plt.ylabel(\"Cloudiness\")\n",
    "plt.title(\"Northern Hemisphere Latitude vs. Cloudiness Plot\")\n",
    "plt.show()\n",
    "corcoefficient = st.pearsonr(northern_hemisphere[\"Lat\"], northern_hemisphere[\"Cloudiness\"])\n",
    "print(f\"r ={corcoefficient[0]}\")"
   ]
  },
  {
   "cell_type": "markdown",
   "metadata": {},
   "source": [
    "####  Southern Hemisphere - Cloudiness (%) vs. Latitude Linear Regression"
   ]
  },
  {
   "cell_type": "code",
   "execution_count": 55,
   "metadata": {},
   "outputs": [
    {
     "data": {
      "image/png": "[encoded data removed]",
      "text/plain": [
       "<Figure size 432x288 with 1 Axes>"
      ]
     },
     "metadata": {
      "needs_background": "light"
     },
     "output_type": "display_data"
    },
    {
     "name": "stdout",
     "output_type": "stream",
     "text": [
      "r =0.31366794783813073\n"
     ]
    }
   ],
   "source": [
    "(slope, intercept, rvaluem, pvalue, stderr) = st.linregress(southern_hemisphere[\"Lat\"], southern_hemisphere[\"Cloudiness\"])\n",
    "regress_values = (southern_hemisphere[\"Lat\"] * slope) + intercept\n",
    "plt.plot(southern_hemisphere[\"Lat\"], regress_values, color = \"r\")\n",
    "plt.scatter(southern_hemisphere[\"Lat\"], southern_hemisphere[\"Cloudiness\"])\n",
    "plt.xlabel(\"Latidude\")\n",
    "plt.ylabel(\"Cloudiness\")\n",
    "plt.title(\"Southern Hemisphere Latitude vs. Cloudiness Plot\")\n",
    "plt.show()\n",
    "corcoefficient = st.pearsonr(southern_hemisphere[\"Lat\"], southern_hemisphere[\"Cloudiness\"])\n",
    "print(f\"r ={corcoefficient[0]}\")"
   ]
  },
  {
   "cell_type": "markdown",
   "metadata": {},
   "source": [
    "####  Northern Hemisphere - Wind Speed (mph) vs. Latitude Linear Regression"
   ]
  },
  {
   "cell_type": "code",
   "execution_count": 56,
   "metadata": {},
   "outputs": [
    {
     "data": {
      "image/png": "[encoded data removed]",
      "text/plain": [
       "<Figure size 432x288 with 1 Axes>"
      ]
     },
     "metadata": {
      "needs_background": "light"
     },
     "output_type": "display_data"
    },
    {
     "name": "stdout",
     "output_type": "stream",
     "text": [
      "r =0.20651220852773697\n"
     ]
    }
   ],
   "source": [
    "(slope, intercept, rvaluem, pvalue, stderr) = st.linregress(northern_hemisphere[\"Lat\"], northern_hemisphere[\"Wind_Speed\"])\n",
    "regress_values = (northern_hemisphere[\"Lat\"] * slope) + intercept\n",
    "plt.plot(northern_hemisphere[\"Lat\"], regress_values, color = \"r\")\n",
    "plt.scatter(northern_hemisphere[\"Lat\"], northern_hemisphere[\"Wind_Speed\"])\n",
    "plt.xlabel(\"Latidude\")\n",
    "plt.ylabel(\"Wind_Speed\")\n",
    "plt.title(\"Northern Hemisphere Latitude vs. Wind_Speed Plot\")\n",
    "plt.show()\n",
    "corcoefficient = st.pearsonr(northern_hemisphere[\"Lat\"], northern_hemisphere[\"Wind_Speed\"])\n",
    "print(f\"r ={corcoefficient[0]}\")"
   ]
  },
  {
   "cell_type": "markdown",
   "metadata": {},
   "source": [
    "####  Southern Hemisphere - Wind Speed (mph) vs. Latitude Linear Regression"
   ]
  },
  {
   "cell_type": "code",
   "execution_count": 57,
   "metadata": {},
   "outputs": [
    {
     "data": {
      "image/png": "[encoded data removed]",
      "text/plain": [
       "<Figure size 432x288 with 1 Axes>"
      ]
     },
     "metadata": {
      "needs_background": "light"
     },
     "output_type": "display_data"
    },
    {
     "name": "stdout",
     "output_type": "stream",
     "text": [
      "r =-0.37936144670417\n"
     ]
    }
   ],
   "source": [
    "(slope, intercept, rvaluem, pvalue, stderr) = st.linregress(southern_hemisphere[\"Lat\"], southern_hemisphere[\"Wind_Speed\"])\n",
    "regress_values = (southern_hemisphere[\"Lat\"] * slope) + intercept\n",
    "plt.plot(southern_hemisphere[\"Lat\"], regress_values, color = \"r\")\n",
    "plt.scatter(southern_hemisphere[\"Lat\"], southern_hemisphere[\"Wind_Speed\"])\n",
    "plt.xlabel(\"Latidude\")\n",
    "plt.ylabel(\"Wind_Speed\")\n",
    "plt.title(\"Southern Hemisphere Latitude vs. Wind_Speed Plot\")\n",
    "plt.show()\n",
    "corcoefficient = st.pearsonr(southern_hemisphere[\"Lat\"], southern_hemisphere[\"Wind_Speed\"])\n",
    "print(f\"r ={corcoefficient[0]}\")"
   ]
  },
  {
   "cell_type": "code",
   "execution_count": null,
   "metadata": {},
   "outputs": [],
   "source": []
  },
  {
   "cell_type": "code",
   "execution_count": null,
   "metadata": {},
   "outputs": [],
   "source": []
  }
 ],
 "metadata": {
  "anaconda-cloud": {},
  "kernel_info": {
   "name": "python3"
  },
  "kernelspec": {
   "display_name": "Python 3",
   "language": "python",
   "name": "python3"
  },
  "language_info": {
   "codemirror_mode": {
    "name": "ipython",
    "version": 3
   },
   "file_extension": ".py",
   "mimetype": "text/x-python",
   "name": "python",
   "nbconvert_exporter": "python",
   "pygments_lexer": "ipython3",
   "version": "3.8.5"
  },
  "latex_envs": {
   "LaTeX_envs_menu_present": true,
   "autoclose": false,
   "autocomplete": true,
   "bibliofile": "biblio.bib",
   "cite_by": "apalike",
   "current_citInitial": 1,
   "eqLabelWithNumbers": true,
   "eqNumInitial": 1,
   "hotkeys": {
    "equation": "Ctrl-E",
    "itemize": "Ctrl-I"
   },
   "labels_anchors": false,
   "latex_user_defs": false,
   "report_style_numbering": false,
   "user_envs_cfg": false
  },
  "nteract": {
   "version": "0.12.3"
  }
 },
 "nbformat": 4,
 "nbformat_minor": 2
}
